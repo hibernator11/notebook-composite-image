{
 "cells": [
  {
   "cell_type": "markdown",
   "metadata": {},
   "source": [
    "# BNB Linked Data Platform\n",
    "\n",
    "The [BNB Linked Data Platform](https://bnb.data.bl.uk/) provides access to the [British National Bibliography (BNB)](http://www.bl.uk/bibliographic/natbib.html) published as linked open data and made available through SPARQL services. \n",
    "\n",
    "This notebook explains how to query the repository and obtain places of publication (fields blt:publication and blt:projectedPublication ) to show an interactive map. Thanks that the works are linked to [GeoNames](https://www.geonames.org/), the records can be linked to external repositories. This notebook  obtains information from [Wikidata](https://www.wikidata.org), showing the benefits of Linked Open Data."
   ]
  },
  {
   "cell_type": "markdown",
   "metadata": {},
   "source": [
    "## Global configuration\n",
    "\n",
    "In this section, you can set the author from the BNB by using its identifier. "
   ]
  },
  {
   "cell_type": "code",
   "execution_count": 52,
   "metadata": {},
   "outputs": [],
   "source": [
    "#bnbIdAuthor = 'http://bnb.data.bl.uk/id/person/DickensCharles1812-1870'\n",
    "bnbIdAuthor = 'http://bnb.data.bl.uk/id/person/BlakeWilliam1757-1827'\n",
    "#bnbIdAuthor = 'http://bnb.data.bl.uk/id/person/WoolfVirginia1882-1941'\n",
    "#bnbIdAuthor = 'http://bnb.data.bl.uk/id/person/ShakespeareWilliam1564-1616'"
   ]
  },
  {
   "cell_type": "markdown",
   "metadata": {},
   "source": [
    "## Setting up things"
   ]
  },
  {
   "cell_type": "code",
   "execution_count": 53,
   "metadata": {},
   "outputs": [],
   "source": [
    "import folium\n",
    "import requests\n",
    "import pandas as pd\n",
    "import json\n",
    "import csv\n",
    "import matplotlib.pyplot as plt\n",
    "from pandas.io.json import json_normalize  "
   ]
  },
  {
   "cell_type": "markdown",
   "metadata": {},
   "source": [
    "## Let's query the repository by asking the publications related to William Shakespeare\n",
    "We will use the [SPARQL endpoint](https://bnb.data.bl.uk/flint-sparql) to create the query and configure the request to retrieve json as a result."
   ]
  },
  {
   "cell_type": "code",
   "execution_count": 54,
   "metadata": {},
   "outputs": [
    {
     "name": "stdout",
     "output_type": "stream",
     "text": [
      "Elements retrieved!\n",
      "\n",
      "{ \"head\": { \"link\": [], \"vars\": [\"resource\", \"title\", \"date\", \"place\"] },\n",
      "  \"results\": { \"distinct\": false, \"ordered\": true, \"bindings\": [\n",
      "    { \"resource\": { \"type\": \"uri\", \"value\": \"http://bnb.data.bl.uk/id/resource/011616972\" }\t, \"title\": { \"type\": \"literal\", \"value\": \"William Blake : the complete illuminated books\" }\t, \"date\": { \"type\": \"literal\", \"value\": \"2000-11\" }\t, \"place\": { \"type\": \"uri\", \"value\": \"http://sws.geonames.org/6269131/\" }},\n",
      "    { \"resource\": { \"type\": \"uri\", \"value\": \"http://bnb.data.bl.uk/id/resource/018235701\" }\t, \"title\": { \"type\": \"literal\", \"value\": \"William Blake, the drawings for Dante's Divine Comedy\" }\t, \"date\": { \"type\": \"literal\", \"value\": \"2017-04\" }\t, \"place\": { \"type\": \"uri\", \"value\": \"http://sws.geonames.org/2921044/\" }},\n",
      "    { \"resource\": { \"type\": \"uri\", \"value\": \"http://bnb.data.bl.uk/id/resource/016739115\" }\t, \"title\": { \"type\": \"literal\", \"value\": \"Blake : the complete poems\" }\t, \"date\": { \"type\": \"literal\", \"value\": \"2014-05\" }\t, \"place\": { \"type\": \"uri\", \"value\": \"http://sws.geonames.org/6269131/\" }},\n",
      "    { \"resource\": { \"type\": \"uri\", \"value\": \"http://bnb.data.bl.uk/id/resource/018468951\" }\t, \"title\": { \"type\": \"literal\", \"value\": \"Paradise lost\" }\t, \"date\": { \"type\": \"literal\", \"value\": \"2017-10\" }\t, \"place\": { \"type\": \"uri\", \"value\": \"http://sws.geonames.org/6269131/\" }},\n",
      "    { \"resource\": { \"type\": \"uri\", \"value\": \"http://bnb.data.bl.uk/id/resource/019347537\" }\t, \"title\": { \"type\": \"literal\", \"value\": \"William Blake : poetry\" }\t, \"date\": { \"type\": \"literal\", \"value\": \"2019-06\" }\t, \"place\": { \"type\": \"uri\", \"value\": \"http://sws.geonames.org/6269131/\" }},\n",
      "    { \"resource\": { \"type\": \"uri\", \"value\": \"http://bnb.data.bl.uk/id/resource/019428264\" }\t, \"title\": { \"type\": \"literal\", \"value\": \"Songs of innocence and of experience\" }\t, \"date\": { \"type\": \"literal\", \"value\": \"2019-08\" }\t, \"place\": { \"type\": \"uri\", \"value\": \"http://sws.geonames.org/6269131/\" }},\n",
      "    { \"resource\": { \"type\": \"uri\", \"value\": \"http://bnb.data.bl.uk/id/resource/019429000\" }\t, \"title\": { \"type\": \"literal\", \"value\": \"Selected poems\" }\t, \"date\": { \"type\": \"literal\", \"value\": \"2019-08\" }\t, \"place\": { \"type\": \"uri\", \"value\": \"http://sws.geonames.org/6269131/\" }},\n",
      "    { \"resource\": { \"type\": \"uri\", \"value\": \"http://bnb.data.bl.uk/id/resource/006926218\" }\t, \"title\": { \"type\": \"literal\", \"value\": \"The marriage of heaven and hell\" }\t, \"date\": { \"type\": \"literal\", \"value\": \"2003-07\" }\t, \"place\": { \"type\": \"uri\", \"value\": \"http://sws.geonames.org/6269131/\" }},\n",
      "    { \"resource\": { \"type\": \"uri\", \"value\": \"http://bnb.data.bl.uk/id/resource/006926226\" }\t, \"title\": { \"type\": \"literal\", \"value\": \"Songs of innocence and of experience\" }\t, \"date\": { \"type\": \"literal\", \"value\": \"2003-07\" }\t, \"place\": { \"type\": \"uri\", \"value\": \"http://sws.geonames.org/6269131/\" }},\n",
      "    { \"resource\": { \"type\": \"uri\", \"value\": \"http://bnb.data.bl.uk/id/resource/009726815\" }\t, \"title\": { \"type\": \"literal\", \"value\": \"The divine comedy\" }\t, \"date\": { \"type\": \"literal\", \"value\": \"2000-10\" }\t, \"place\": { \"type\": \"uri\", \"value\": \"http://sws.geonames.org/3017382/\" }},\n",
      "    { \"resource\": { \"type\": \"uri\", \"value\": \"http://bnb.data.bl.uk/id/resource/013751760\" }\t, \"title\": { \"type\": \"literal\", \"value\": \"Journey into William Blake's London\" }\t, \"date\": { \"type\": \"literal\", \"value\": \"2007-08\" }\t, \"place\": { \"type\": \"uri\", \"value\": \"http://sws.geonames.org/6252001/\" }},\n",
      "    { \"resource\": { \"type\": \"uri\", \"value\": \"http://bnb.data.bl.uk/id/resource/018806496\" }\t, \"title\": { \"type\": \"literal\", \"value\": \"William Blake's writings. Volume I, Engraved and etched writings\" }\t, \"date\": { \"type\": \"literal\", \"value\": \"2018-03\" }\t, \"place\": { \"type\": \"uri\", \"value\": \"http://sws.geonames.org/6269131/\" }},\n",
      "    { \"resource\": { \"type\": \"uri\", \"value\": \"http://bnb.data.bl.uk/id/resource/018806497\" }\t, \"title\": { \"type\": \"literal\", \"value\": \"William Blake's writings. Volume II, Writings in conventional typography and in manuscript\" }\t, \"date\": { \"type\": \"literal\", \"value\": \"2018-03\" }\t, \"place\": { \"type\": \"uri\", \"value\": \"http://sws.geonames.org/6269131/\" }},\n",
      "    { \"resource\": { \"type\": \"uri\", \"value\": \"http://bnb.data.bl.uk/id/resource/018420114\" }\t, \"title\": { \"type\": \"literal\", \"value\": \"The divine comedy\" }\t, \"date\": { \"type\": \"literal\", \"value\": \"2017-09\" }\t, \"place\": { \"type\": \"uri\", \"value\": \"http://sws.geonames.org/6269131/\" }},\n",
      "    { \"resource\": { \"type\": \"uri\", \"value\": \"http://bnb.data.bl.uk/id/resource/010318606\" }\t, \"title\": { \"type\": \"literal\", \"value\": \"Europe: a prophecy\" }\t, \"date\": { \"type\": \"literal\", \"value\": \"1969\" }\t, \"place\": { \"type\": \"uri\", \"value\": \"http://sws.geonames.org/6269131/\" }},\n",
      "    { \"resource\": { \"type\": \"uri\", \"value\": \"http://bnb.data.bl.uk/id/resource/007697382\" }\t, \"title\": { \"type\": \"literal\", \"value\": \"Proverbs o hell\" }\t, \"date\": { \"type\": \"literal\", \"value\": \"1988\" }\t, \"place\": { \"type\": \"uri\", \"value\": \"http://sws.geonames.org/2638360/\" }},\n",
      "    { \"resource\": { \"type\": \"uri\", \"value\": \"http://bnb.data.bl.uk/id/resource/008726758\" }\t, \"title\": { \"type\": \"literal\", \"value\": \"Selfhood and redemption in Blake's Songs\" }\t, \"date\": { \"type\": \"literal\", \"value\": \"1987\" }\t, \"place\": { \"type\": \"uri\", \"value\": \"http://sws.geonames.org/6269131/\" }},\n",
      "    { \"resource\": { \"type\": \"uri\", \"value\": \"http://bnb.data.bl.uk/id/resource/009037636\" }\t, \"title\": { \"type\": \"literal\", \"value\": \"Drawings of William Blake : 92 pencil studies\" }\t, \"date\": { \"type\": \"literal\", \"value\": \"1970\" }\t, \"place\": { \"type\": \"uri\", \"value\": \"http://sws.geonames.org/6269131/\" }},\n",
      "    { \"resource\": { \"type\": \"uri\", \"value\": \"http://bnb.data.bl.uk/id/resource/011308808\" }\t, \"title\": { \"type\": \"literal\", \"value\": \"The portable Blake\" }\t, \"date\": { \"type\": \"literal\", \"value\": \"1976\" }\t, \"place\": { \"type\": \"uri\", \"value\": \"http://sws.geonames.org/6269131/\" }},\n",
      "    { \"resource\": { \"type\": \"uri\", \"value\": \"http://bnb.data.bl.uk/id/resource/013756142\" }\t, \"title\": { \"type\": \"literal\", \"value\": \"William Blake\" }\t, \"date\": { \"type\": \"literal\", \"value\": \"2006\" }\t, \"place\": { \"type\": \"uri\", \"value\": \"http://sws.geonames.org/6252001/\" }},\n",
      "    { \"resource\": { \"type\": \"uri\", \"value\": \"http://bnb.data.bl.uk/id/resource/014057880\" }\t, \"title\": { \"type\": \"literal\", \"value\": \"Poems\" }\t, \"date\": { \"type\": \"literal\", \"value\": \"2007\" }\t, \"place\": { \"type\": \"uri\", \"value\": \"http://sws.geonames.org/6269131/\" }},\n",
      "    { \"resource\": { \"type\": \"uri\", \"value\": \"http://bnb.data.bl.uk/id/resource/014508230\" }\t, \"title\": { \"type\": \"literal\", \"value\": \"Songs of innocence and of experience\" }\t, \"date\": { \"type\": \"literal\", \"value\": \"2008\" }\t, \"place\": { \"type\": \"uri\", \"value\": \"http://sws.geonames.org/6252001/\" }},\n",
      "    { \"resource\": { \"type\": \"uri\", \"value\": \"http://bnb.data.bl.uk/id/resource/016792715\" }\t, \"title\": { \"type\": \"literal\", \"value\": \"William Blake\" }\t, \"date\": { \"type\": \"literal\", \"value\": \"2012\" }\t, \"place\": { \"type\": \"uri\", \"value\": \"http://sws.geonames.org/6269131/\" }},\n",
      "    { \"resource\": { \"type\": \"uri\", \"value\": \"http://bnb.data.bl.uk/id/resource/008344469\" }\t, \"title\": { \"type\": \"literal\", \"value\": \"William Blake\" }\t, \"date\": { \"type\": \"literal\", \"value\": \"1965\" }\t, \"place\": { \"type\": \"uri\", \"value\": \"http://sws.geonames.org/2635167/\" }},\n",
      "    { \"resource\": { \"type\": \"uri\", \"value\": \"http://bnb.data.bl.uk/id/resource/010299790\" }\t, \"title\": { \"type\": \"literal\", \"value\": \"Songs of innocence\" }\t, \"date\": { \"type\": \"literal\", \"value\": \"1958\" }\t, \"place\": { \"type\": \"uri\", \"value\": \"http://sws.geonames.org/2635167/\" }},\n",
      "    { \"resource\": { \"type\": \"uri\", \"value\": \"http://bnb.data.bl.uk/id/resource/010333253\" }\t, \"title\": { \"type\": \"literal\", \"value\": \"The clouded hills : selections from William Blake\" }\t, \"date\": { \"type\": \"literal\", \"value\": \"1973\" }\t, \"place\": { \"type\": \"uri\", \"value\": \"http://sws.geonames.org/6269131/\" }},\n",
      "    { \"resource\": { \"type\": \"uri\", \"value\": \"http://bnb.data.bl.uk/id/resource/010952533\" }\t, \"title\": { \"type\": \"literal\", \"value\": \"The letters of William Blake\" }\t, \"date\": { \"type\": \"literal\", \"value\": \"1968\" }\t, \"place\": { \"type\": \"uri\", \"value\": \"http://sws.geonames.org/2635167/\" }},\n",
      "    { \"resource\": { \"type\": \"uri\", \"value\": \"http://bnb.data.bl.uk/id/resource/011021771\" }\t, \"title\": { \"type\": \"literal\", \"value\": \"A descriptive catalogue of pictures, poetical and historical inventions 1809\" }\t, \"date\": { \"type\": \"literal\", \"value\": \"2001\" }\t, \"place\": { \"type\": \"uri\", \"value\": \"http://sws.geonames.org/6269131/\" }},\n",
      "    { \"resource\": { \"type\": \"uri\", \"value\": \"http://bnb.data.bl.uk/id/resource/011352389\" }\t, \"title\": { \"type\": \"literal\", \"value\": \"William Blake\" }\t, \"date\": { \"type\": \"literal\", \"value\": \"2003\" }\t, \"place\": { \"type\": \"uri\", \"value\": \"http://sws.geonames.org/6269131/\" }},\n",
      "    { \"resource\": { \"type\": \"uri\", \"value\": \"http://bnb.data.bl.uk/id/resource/011592654\" }\t, \"title\": { \"type\": \"literal\", \"value\": \"Poems of William Blake\" }\t, \"date\": { \"type\": \"literal\", \"value\": \"1969\" }\t, \"place\": { \"type\": \"uri\", \"value\": \"http://sws.geonames.org/6269131/\" }},\n",
      "    { \"resource\": { \"type\": \"uri\", \"value\": \"http://bnb.data.bl.uk/id/resource/011602004\" }\t, \"title\": { \"type\": \"literal\", \"value\": \"Holy Thursday\" }\t, \"date\": { \"type\": \"literal\", \"value\": \"1971\" }\t, \"place\": { \"type\": \"uri\", \"value\": \"http://sws.geonames.org/6269131/\" }},\n",
      "    { \"resource\": { \"type\": \"uri\", \"value\": \"http://bnb.data.bl.uk/id/resource/011933750\" }\t, \"title\": { \"type\": \"literal\", \"value\": \"William Blake : selected poetry\" }\t, \"date\": { \"type\": \"literal\", \"value\": \"1988\" }\t, \"place\": { \"type\": \"uri\", \"value\": \"http://sws.geonames.org/6269131/\" }},\n",
      "    { \"resource\": { \"type\": \"uri\", \"value\": \"http://bnb.data.bl.uk/id/resource/011933871\" }\t, \"title\": { \"type\": \"literal\", \"value\": \"Selected poems\" }\t, \"date\": { \"type\": \"literal\", \"value\": \"1996\" }\t, \"place\": { \"type\": \"uri\", \"value\": \"http://sws.geonames.org/6269131/\" }},\n",
      "    { \"resource\": { \"type\": \"uri\", \"value\": \"http://bnb.data.bl.uk/id/resource/012616154\" }\t, \"title\": { \"type\": \"literal\", \"value\": \"Collected poems\" }\t, \"date\": { \"type\": \"literal\", \"value\": \"2002\" }\t, \"place\": { \"type\": \"uri\", \"value\": \"http://sws.geonames.org/6269131/\" }},\n",
      "    { \"resource\": { \"type\": \"uri\", \"value\": \"http://bnb.data.bl.uk/id/resource/012619786\" }\t, \"title\": { \"type\": \"literal\", \"value\": \"Selected poetry and prose\" }\t, \"date\": { \"type\": \"literal\", \"value\": \"1988\" }\t, \"place\": { \"type\": \"uri\", \"value\": \"http://sws.geonames.org/6269131/\" }},\n",
      "    { \"resource\": { \"type\": \"uri\", \"value\": \"http://bnb.data.bl.uk/id/resource/014583846\" }\t, \"title\": { \"type\": \"literal\", \"value\": \"The complete poetry and prose of William Blake\" }\t, \"date\": { \"type\": \"literal\", \"value\": \"2008\" }\t, \"place\": { \"type\": \"uri\", \"value\": \"http://sws.geonames.org/6252001/\" }},\n",
      "    { \"resource\": { \"type\": \"uri\", \"value\": \"http://bnb.data.bl.uk/id/resource/014692113\" }\t, \"title\": { \"type\": \"literal\", \"value\": \"William Blake : selected poetry and prose\" }\t, \"date\": { \"type\": \"literal\", \"value\": \"2008\" }\t, \"place\": { \"type\": \"uri\", \"value\": \"http://sws.geonames.org/6269131/\" }},\n",
      "    { \"resource\": { \"type\": \"uri\", \"value\": \"http://bnb.data.bl.uk/id/resource/015579295\" }\t, \"title\": { \"type\": \"literal\", \"value\": \"The marriage of heaven and hell\" }\t, \"date\": { \"type\": \"literal\", \"value\": \"2011\" }\t, \"place\": { \"type\": \"uri\", \"value\": \"http://sws.geonames.org/6269131/\" }},\n",
      "    { \"resource\": { \"type\": \"uri\", \"value\": \"http://bnb.data.bl.uk/id/resource/015634036\" }\t, \"title\": { \"type\": \"literal\", \"value\": \"Auguries of innocence\" }\t, \"date\": { \"type\": \"literal\", \"value\": \"2010\" }\t, \"place\": { \"type\": \"uri\", \"value\": \"http://sws.geonames.org/6269131/\" }},\n",
      "    { \"resource\": { \"type\": \"uri\", \"value\": \"http://bnb.data.bl.uk/id/resource/015951797\" }\t, \"title\": { \"type\": \"literal\", \"value\": \"Genesis : William Blake's last illuminated work\" }\t, \"date\": { \"type\": \"literal\", \"value\": \"2012\" }\t, \"place\": { \"type\": \"uri\", \"value\": \"http://sws.geonames.org/6252001/\" }},\n",
      "    { \"resource\": { \"type\": \"uri\", \"value\": \"http://bnb.data.bl.uk/id/resource/016723677\" }\t, \"title\": { \"type\": \"literal\", \"value\": \"Songs of innocence and of experience\" }\t, \"date\": { \"type\": \"literal\", \"value\": \"2014\" }\t, \"place\": { \"type\": \"uri\", \"value\": \"http://sws.geonames.org/6269131/\" }},\n",
      "    { \"resource\": { \"type\": \"uri\", \"value\": \"http://bnb.data.bl.uk/id/resource/018365449\" }\t, \"title\": { \"type\": \"literal\", \"value\": \"Songs of innocence and of experience\" }\t, \"date\": { \"type\": \"literal\", \"value\": \"2017\" }\t, \"place\": { \"type\": \"uri\", \"value\": \"http://sws.geonames.org/6269131/\" }},\n",
      "    { \"resource\": { \"type\": \"uri\", \"value\": \"http://bnb.data.bl.uk/id/resource/018368448\" }\t, \"title\": { \"type\": \"literal\", \"value\": \"Songs of innocence and of experience\" }\t, \"date\": { \"type\": \"literal\", \"value\": \"2017\" }\t, \"place\": { \"type\": \"uri\", \"value\": \"http://sws.geonames.org/6269131/\" }},\n",
      "    { \"resource\": { \"type\": \"uri\", \"value\": \"http://bnb.data.bl.uk/id/resource/009655505\" }\t, \"title\": { \"type\": \"literal\", \"value\": \"Selected poems of William Blake\" }\t, \"date\": { \"type\": \"literal\", \"value\": \"1957\" }\t, \"place\": { \"type\": \"uri\", \"value\": \"http://sws.geonames.org/2635167/\" }},\n",
      "    { \"resource\": { \"type\": \"uri\", \"value\": \"http://bnb.data.bl.uk/id/resource/007462013\" }\t, \"title\": { \"type\": \"literal\", \"value\": \"The poems of William Blake\" }\t, \"date\": { \"type\": \"literal\", \"value\": \"1995\" }\t, \"place\": { \"type\": \"uri\", \"value\": \"http://sws.geonames.org/6269131/\" }},\n",
      "    { \"resource\": { \"type\": \"uri\", \"value\": \"http://bnb.data.bl.uk/id/resource/007683403\" }\t, \"title\": { \"type\": \"literal\", \"value\": \"The illuminated Blake\" }\t, \"date\": { \"type\": \"literal\", \"value\": \"1975\" }\t, \"place\": { \"type\": \"uri\", \"value\": \"http://sws.geonames.org/6269131/\" }},\n",
      "    { \"resource\": { \"type\": \"uri\", \"value\": \"http://bnb.data.bl.uk/id/resource/007684656\" }\t, \"title\": { \"type\": \"literal\", \"value\": \"The notebook of William Blake : a photographic and typographic facsimile\" }\t, \"date\": { \"type\": \"literal\", \"value\": \"1973\" }\t, \"place\": { \"type\": \"uri\", \"value\": \"http://sws.geonames.org/6269131/\" }},\n",
      "    { \"resource\": { \"type\": \"uri\", \"value\": \"http://bnb.data.bl.uk/id/resource/010698009\" }\t, \"title\": { \"type\": \"literal\", \"value\": \"William Blake : selected poetry and prose\" }\t, \"date\": { \"type\": \"literal\", \"value\": \"2000\" }\t, \"place\": { \"type\": \"uri\", \"value\": \"http://sws.geonames.org/6269131/\" }},\n",
      "    { \"resource\": { \"type\": \"uri\", \"value\": \"http://bnb.data.bl.uk/id/resource/011571648\" }\t, \"title\": { \"type\": \"literal\", \"value\": \"The marriage of Heaven and Hell\" }\t, \"date\": { \"type\": \"literal\", \"value\": \"1960\" }\t, \"place\": { \"type\": \"uri\", \"value\": \"http://sws.geonames.org/2635167/\" }},\n",
      "    { \"resource\": { \"type\": \"uri\", \"value\": \"http://bnb.data.bl.uk/id/resource/011931586\" }\t, \"title\": { \"type\": \"literal\", \"value\": \"The complete poems [of] William Blake\" }\t, \"date\": { \"type\": \"literal\", \"value\": \"1977\" }\t, \"place\": { \"type\": \"uri\", \"value\": \"http://sws.geonames.org/6269131/\" }},\n",
      "    { \"resource\": { \"type\": \"uri\", \"value\": \"http://bnb.data.bl.uk/id/resource/012603542\" }\t, \"title\": { \"type\": \"literal\", \"value\": \"Songs of innocence and of experience\" }\t, \"date\": { \"type\": \"literal\", \"value\": \"1990\" }\t, \"place\": { \"type\": \"uri\", \"value\": \"http://sws.geonames.org/6269131/\" }},\n",
      "    { \"resource\": { \"type\": \"uri\", \"value\": \"http://bnb.data.bl.uk/id/resource/012691163\" }\t, \"title\": { \"type\": \"literal\", \"value\": \"The William Blake tarot of the creative imagination\" }\t, \"date\": { \"type\": \"literal\", \"value\": \"1995\" }\t, \"place\": { \"type\": \"uri\", \"value\": \"http://sws.geonames.org/6269131/\" }},\n",
      "    { \"resource\": { \"type\": \"uri\", \"value\": \"http://bnb.data.bl.uk/id/resource/012701642\" }\t, \"title\": { \"type\": \"literal\", \"value\": \"Poems\" }\t, \"date\": { \"type\": \"literal\", \"value\": \"1994\" }\t, \"place\": { \"type\": \"uri\", \"value\": \"http://sws.geonames.org/6269131/\" }},\n",
      "    { \"resource\": { \"type\": \"uri\", \"value\": \"http://bnb.data.bl.uk/id/resource/012961251\" }\t, \"title\": { \"type\": \"literal\", \"value\": \"Inferno\" }\t, \"date\": { \"type\": \"literal\", \"value\": \"2004\" }\t, \"place\": { \"type\": \"uri\", \"value\": \"http://sws.geonames.org/6269131/\" }},\n",
      "    { \"resource\": { \"type\": \"uri\", \"value\": \"http://bnb.data.bl.uk/id/resource/012967819\" }\t, \"title\": { \"type\": \"literal\", \"value\": \"Selected poems\" }\t, \"date\": { \"type\": \"literal\", \"value\": \"2004\" }\t, \"place\": { \"type\": \"uri\", \"value\": \"http://sws.geonames.org/6269131/\" }},\n",
      "    { \"resource\": { \"type\": \"uri\", \"value\": \"http://bnb.data.bl.uk/id/resource/013656424\" }\t, \"title\": { \"type\": \"literal\", \"value\": \"Songs of innocence and of experience\" }\t, \"date\": { \"type\": \"literal\", \"value\": \"2007\" }\t, \"place\": { \"type\": \"uri\", \"value\": \"http://sws.geonames.org/6269131/\" }},\n",
      "    { \"resource\": { \"type\": \"uri\", \"value\": \"http://bnb.data.bl.uk/id/resource/018791868\" }\t, \"title\": { \"type\": \"literal\", \"value\": \"Songs of innocence and of experience\" }\t, \"date\": { \"type\": \"literal\", \"value\": \"2018\" }\t, \"place\": { \"type\": \"uri\", \"value\": \"http://sws.geonames.org/6269131/\" }},\n",
      "    { \"resource\": { \"type\": \"uri\", \"value\": \"http://bnb.data.bl.uk/id/resource/019113876\" }\t, \"title\": { \"type\": \"literal\", \"value\": \"William Blake : selected poems\" }\t, \"date\": { \"type\": \"literal\", \"value\": \"2019\" }\t, \"place\": { \"type\": \"uri\", \"value\": \"http://sws.geonames.org/6269131/\" }},\n",
      "    { \"resource\": { \"type\": \"uri\", \"value\": \"http://bnb.data.bl.uk/id/resource/000370416\" }\t, \"title\": { \"type\": \"literal\", \"value\": \"Songs of innocence and of experience, shewing the two contrary states of the human soul\" }\t, \"date\": { \"type\": \"literal\", \"value\": \"1958\" }\t, \"place\": { \"type\": \"uri\", \"value\": \"http://sws.geonames.org/6269131/\" }},\n",
      "    { \"resource\": { \"type\": \"uri\", \"value\": \"http://bnb.data.bl.uk/id/resource/000370472\" }\t, \"title\": { \"type\": \"literal\", \"value\": \"Selected poems\" }\t, \"date\": { \"type\": \"literal\", \"value\": \"1962\" }\t, \"place\": { \"type\": \"uri\", \"value\": \"http://sws.geonames.org/6269131/\" }},\n",
      "    { \"resource\": { \"type\": \"uri\", \"value\": \"http://bnb.data.bl.uk/id/resource/000370287\" }\t, \"title\": { \"type\": \"literal\", \"value\": \"The complete writings of William Blake : with all the variant readings\" }\t, \"date\": { \"type\": \"literal\", \"value\": \"1957\" }\t, \"place\": { \"type\": \"uri\", \"value\": \"http://sws.geonames.org/6269131/\" }},\n",
      "    { \"resource\": { \"type\": \"uri\", \"value\": \"http://bnb.data.bl.uk/id/resource/000370289\" }\t, \"title\": { \"type\": \"literal\", \"value\": \"The Complete writings ... With variant readings\" }\t, \"date\": { \"type\": \"literal\", \"value\": \"1966\" }\t, \"place\": { \"type\": \"uri\", \"value\": \"http://sws.geonames.org/6269131/\" }},\n",
      "    { \"resource\": { \"type\": \"uri\", \"value\": \"http://bnb.data.bl.uk/id/resource/000370555\" }\t, \"title\": { \"type\": \"literal\", \"value\": \"The Angel\" }\t, \"date\": { \"type\": \"literal\", \"value\": \"1951\" }\t, \"place\": { \"type\": \"uri\", \"value\": \"http://sws.geonames.org/6269131/\" }},\n",
      "    { \"resource\": { \"type\": \"uri\", \"value\": \"http://bnb.data.bl.uk/id/resource/014334917\" }\t, \"title\": { \"type\": \"literal\", \"value\": \"The divine vision : studies in the poetry and art of William Blake, born November 28th, 1757\" }\t, \"date\": { \"type\": \"literal\", \"value\": \"1957\" }\t, \"place\": { \"type\": \"uri\", \"value\": \"http://sws.geonames.org/6269131/\" }},\n",
      "    { \"resource\": { \"type\": \"uri\", \"value\": \"http://bnb.data.bl.uk/id/resource/014472845\" }\t, \"title\": { \"type\": \"literal\", \"value\": \"Poetical sketches\" }\t, \"date\": { \"type\": \"literal\", \"value\": \"2007\" }\t, \"place\": { \"type\": \"uri\", \"value\": \"http://sws.geonames.org/6269131/\" }},\n",
      "    { \"resource\": { \"type\": \"uri\", \"value\": \"http://bnb.data.bl.uk/id/resource/015292828\" }\t, \"title\": { \"type\": \"literal\", \"value\": \"Seen in my visions : a descriptive catalogue of pictures\" }\t, \"date\": { \"type\": \"literal\", \"value\": \"2009\" }\t, \"place\": { \"type\": \"uri\", \"value\": \"http://sws.geonames.org/6269131/\" }},\n",
      "    { \"resource\": { \"type\": \"uri\", \"value\": \"http://bnb.data.bl.uk/id/resource/015489448\" }\t, \"title\": { \"type\": \"literal\", \"value\": \"William Blake\" }\t, \"date\": { \"type\": \"literal\", \"value\": \"2010\" }\t, \"place\": { \"type\": \"uri\", \"value\": \"http://sws.geonames.org/6269131/\" }},\n",
      "    { \"resource\": { \"type\": \"uri\", \"value\": \"http://bnb.data.bl.uk/id/resource/018236226\" }\t, \"title\": { \"type\": \"literal\", \"value\": \"Tyger, tyger\" }\t, \"date\": { \"type\": \"literal\", \"value\": \"2016\" }\t, \"place\": { \"type\": \"uri\", \"value\": \"http://sws.geonames.org/6269131/\" }},\n",
      "    { \"resource\": { \"type\": \"uri\", \"value\": \"http://bnb.data.bl.uk/id/resource/018259704\" }\t, \"title\": { \"type\": \"literal\", \"value\": \"William Blake : poems\" }\t, \"date\": { \"type\": \"literal\", \"value\": \"2010\" }\t, \"place\": { \"type\": \"uri\", \"value\": \"http://sws.geonames.org/6269131/\" }},\n",
      "    { \"resource\": { \"type\": \"uri\", \"value\": \"http://bnb.data.bl.uk/id/resource/010299414\" }\t, \"title\": { \"type\": \"literal\", \"value\": \"A selection of poems and letters\" }\t, \"date\": { \"type\": \"literal\", \"value\": \"1958\" }\t, \"place\": { \"type\": \"uri\", \"value\": \"http://sws.geonames.org/2635167/\" }},\n",
      "    { \"resource\": { \"type\": \"uri\", \"value\": \"http://bnb.data.bl.uk/id/resource/008076844\" }\t, \"title\": { \"type\": \"literal\", \"value\": \"Night thoughts, or, The complaint and the consolation\" }\t, \"date\": { \"type\": \"literal\", \"value\": \"1976\" }\t, \"place\": { \"type\": \"uri\", \"value\": \"http://sws.geonames.org/6269131/\" }},\n",
      "    { \"resource\": { \"type\": \"uri\", \"value\": \"http://bnb.data.bl.uk/id/resource/008078428\" }\t, \"title\": { \"type\": \"literal\", \"value\": \"Songs of innocence and songs of experience\" }\t, \"date\": { \"type\": \"literal\", \"value\": \"1992\" }\t, \"place\": { \"type\": \"uri\", \"value\": \"http://sws.geonames.org/6252001/\" }},\n",
      "    { \"resource\": { \"type\": \"uri\", \"value\": \"http://bnb.data.bl.uk/id/resource/008078481\" }\t, \"title\": { \"type\": \"literal\", \"value\": \"The illuminated Blake : William Blake's complete illuminated works with a plate-by-plate commentary\" }\t, \"date\": { \"type\": \"literal\", \"value\": \"1992\" }\t, \"place\": { \"type\": \"uri\", \"value\": \"http://sws.geonames.org/6252001/\" }},\n",
      "    { \"resource\": { \"type\": \"uri\", \"value\": \"http://bnb.data.bl.uk/id/resource/008078744\" }\t, \"title\": { \"type\": \"literal\", \"value\": \"The marriage of Heaven and Hell : in full color\" }\t, \"date\": { \"type\": \"literal\", \"value\": \"1994\" }\t, \"place\": { \"type\": \"uri\", \"value\": \"http://sws.geonames.org/6269131/\" }},\n",
      "    { \"resource\": { \"type\": \"uri\", \"value\": \"http://bnb.data.bl.uk/id/resource/008078863\" }\t, \"title\": { \"type\": \"literal\", \"value\": \"Blake's selected poems\" }\t, \"date\": { \"type\": \"literal\", \"value\": \"1995\" }\t, \"place\": { \"type\": \"uri\", \"value\": \"http://sws.geonames.org/6269131/\" }},\n",
      "    { \"resource\": { \"type\": \"uri\", \"value\": \"http://bnb.data.bl.uk/id/resource/008078950\" }\t, \"title\": { \"type\": \"literal\", \"value\": \"Blake's illustrations for the Book of Job\" }\t, \"date\": { \"type\": \"literal\", \"value\": \"1995\" }\t, \"place\": { \"type\": \"uri\", \"value\": \"http://sws.geonames.org/6269131/\" }},\n",
      "    { \"resource\": { \"type\": \"uri\", \"value\": \"http://bnb.data.bl.uk/id/resource/008079201\" }\t, \"title\": { \"type\": \"literal\", \"value\": \"The book of Urizen : in full color\" }\t, \"date\": { \"type\": \"literal\", \"value\": \"1997\" }\t, \"place\": { \"type\": \"uri\", \"value\": \"http://sws.geonames.org/6269131/\" }},\n",
      "    { \"resource\": { \"type\": \"uri\", \"value\": \"http://bnb.data.bl.uk/id/resource/008271260\" }\t, \"title\": { \"type\": \"literal\", \"value\": \"All religions are one\" }\t, \"date\": { \"type\": \"literal\", \"value\": \"1970\" }\t, \"place\": { \"type\": \"uri\", \"value\": \"http://sws.geonames.org/6269131/\" }},\n",
      "    { \"resource\": { \"type\": \"uri\", \"value\": \"http://bnb.data.bl.uk/id/resource/009028986\" }\t, \"title\": { \"type\": \"literal\", \"value\": \"William Blake's water-colour designs for the poems of Thomas Gray\" }\t, \"date\": { \"type\": \"literal\", \"value\": \"1972\" }\t, \"place\": { \"type\": \"uri\", \"value\": \"http://sws.geonames.org/6269131/\" }},\n",
      "    { \"resource\": { \"type\": \"uri\", \"value\": \"http://bnb.data.bl.uk/id/resource/009649031\" }\t, \"title\": { \"type\": \"literal\", \"value\": \"Vala : Blake's numbered text\" }\t, \"date\": { \"type\": \"literal\", \"value\": \"1956\" }\t, \"place\": { \"type\": \"uri\", \"value\": \"http://sws.geonames.org/2635167/\" }},\n",
      "    { \"resource\": { \"type\": \"uri\", \"value\": \"http://bnb.data.bl.uk/id/resource/010036934\" }\t, \"title\": { \"type\": \"literal\", \"value\": \"Selected poetry and letters [of] William Blake\" }\t, \"date\": { \"type\": \"literal\", \"value\": \"1976\" }\t, \"place\": { \"type\": \"uri\", \"value\": \"http://sws.geonames.org/6269131/\" }},\n",
      "    { \"resource\": { \"type\": \"uri\", \"value\": \"http://bnb.data.bl.uk/id/resource/010080410\" }\t, \"title\": { \"type\": \"literal\", \"value\": \"Blake : the complete poems\" }\t, \"date\": { \"type\": \"literal\", \"value\": \"1989\" }\t, \"place\": { \"type\": \"uri\", \"value\": \"http://sws.geonames.org/6269131/\" }},\n",
      "    { \"resource\": { \"type\": \"uri\", \"value\": \"http://bnb.data.bl.uk/id/resource/010089125\" }\t, \"title\": { \"type\": \"literal\", \"value\": \"Selected poems\" }\t, \"date\": { \"type\": \"literal\", \"value\": \"1994\" }\t, \"place\": { \"type\": \"uri\", \"value\": \"http://sws.geonames.org/6269131/\" }},\n",
      "    { \"resource\": { \"type\": \"uri\", \"value\": \"http://bnb.data.bl.uk/id/resource/010935563\" }\t, \"title\": { \"type\": \"literal\", \"value\": \"Vision of the daughters of Albion\" }\t, \"date\": { \"type\": \"literal\", \"value\": \"1959\" }\t, \"place\": { \"type\": \"uri\", \"value\": \"http://sws.geonames.org/2635167/\" }},\n",
      "    { \"resource\": { \"type\": \"uri\", \"value\": \"http://bnb.data.bl.uk/id/resource/010948135\" }\t, \"title\": { \"type\": \"literal\", \"value\": \"Complete writings [of] Blake : with variant readings\" }\t, \"date\": { \"type\": \"literal\", \"value\": \"1969\" }\t, \"place\": { \"type\": \"uri\", \"value\": \"http://sws.geonames.org/6269131/\" }},\n",
      "    { \"resource\": { \"type\": \"uri\", \"value\": \"http://bnb.data.bl.uk/id/resource/010948168\" }\t, \"title\": { \"type\": \"literal\", \"value\": \"Songs of innocence and of experience : shewing the two contrary states of the human soul, 1789-1794\" }\t, \"date\": { \"type\": \"literal\", \"value\": \"1970\" }\t, \"place\": { \"type\": \"uri\", \"value\": \"http://sws.geonames.org/6269131/\" }},\n",
      "    { \"resource\": { \"type\": \"uri\", \"value\": \"http://bnb.data.bl.uk/id/resource/011172547\" }\t, \"title\": { \"type\": \"literal\", \"value\": \"William Blake : the complete poems\" }\t, \"date\": { \"type\": \"literal\", \"value\": \"1981\" }\t, \"place\": { \"type\": \"uri\", \"value\": \"http://sws.geonames.org/6269131/\" }},\n",
      "    { \"resource\": { \"type\": \"uri\", \"value\": \"http://bnb.data.bl.uk/id/resource/011616408\" }\t, \"title\": { \"type\": \"literal\", \"value\": \"William Blake postcards : 24 full-color cards\" }\t, \"date\": { \"type\": \"literal\", \"value\": \"1994\" }\t, \"place\": { \"type\": \"uri\", \"value\": \"http://sws.geonames.org/6252001/\" }},\n",
      "    { \"resource\": { \"type\": \"uri\", \"value\": \"http://bnb.data.bl.uk/id/resource/011942239\" }\t, \"title\": { \"type\": \"literal\", \"value\": \"William Blake\" }\t, \"date\": { \"type\": \"literal\", \"value\": \"1994\" }\t, \"place\": { \"type\": \"uri\", \"value\": \"http://sws.geonames.org/6269131/\" }},\n",
      "    { \"resource\": { \"type\": \"uri\", \"value\": \"http://bnb.data.bl.uk/id/resource/011942941\" }\t, \"title\": { \"type\": \"literal\", \"value\": \"Selected poetry\" }\t, \"date\": { \"type\": \"literal\", \"value\": \"1998\" }\t, \"place\": { \"type\": \"uri\", \"value\": \"http://sws.geonames.org/6269131/\" }},\n",
      "    { \"resource\": { \"type\": \"uri\", \"value\": \"http://bnb.data.bl.uk/id/resource/011953082\" }\t, \"title\": { \"type\": \"literal\", \"value\": \"Blake's poetry and designs : authoritative texts, illuminations in color and monochrome, related prose, criticism\" }\t, \"date\": { \"type\": \"literal\", \"value\": \"1979\" }\t, \"place\": { \"type\": \"uri\", \"value\": \"http://sws.geonames.org/6269131/\" }},\n",
      "    { \"resource\": { \"type\": \"uri\", \"value\": \"http://bnb.data.bl.uk/id/resource/012483277\" }\t, \"title\": { \"type\": \"literal\", \"value\": \"Songs of innocence and of experience\" }\t, \"date\": { \"type\": \"literal\", \"value\": \"1992\" }\t, \"place\": { \"type\": \"uri\", \"value\": \"http://sws.geonames.org/6269131/\" }},\n",
      "    { \"resource\": { \"type\": \"uri\", \"value\": \"http://bnb.data.bl.uk/id/resource/017692513\" }\t, \"title\": { \"type\": \"literal\", \"value\": \"Tyger, tyger\" }\t, \"date\": { \"type\": \"literal\", \"value\": \"2016\" }\t, \"place\": { \"type\": \"uri\", \"value\": \"http://sws.geonames.org/6269131/\" }},\n",
      "    { \"resource\": { \"type\": \"uri\", \"value\": \"http://bnb.data.bl.uk/id/resource/018522253\" }\t, \"title\": { \"type\": \"literal\", \"value\": \"The complete poems [of] William Blake\" }\t, \"date\": { \"type\": \"literal\", \"value\": \"2004\" }\t, \"place\": { \"type\": \"uri\", \"value\": \"http://sws.geonames.org/6269131/\" }},\n",
      "    { \"resource\": { \"type\": \"uri\", \"value\": \"http://bnb.data.bl.uk/id/resource/018522537\" }\t, \"title\": { \"type\": \"literal\", \"value\": \"Selected poems\" }\t, \"date\": { \"type\": \"literal\", \"value\": \"2005\" }\t, \"place\": { \"type\": \"uri\", \"value\": \"http://sws.geonames.org/6269131/\" }},\n",
      "    { \"resource\": { \"type\": \"uri\", \"value\": \"http://bnb.data.bl.uk/id/resource/009906992\" }\t, \"title\": { \"type\": \"literal\", \"value\": \"Jerusalem\" }\t, \"date\": { \"type\": \"literal\", \"value\": \"1995\" }\t, \"place\": { \"type\": \"uri\", \"value\": \"http://sws.geonames.org/6269131/\" }},\n",
      "    { \"resource\": { \"type\": \"uri\", \"value\": \"http://bnb.data.bl.uk/id/resource/010305800\" }\t, \"title\": { \"type\": \"literal\", \"value\": \"Songs of innocence and of experience : shewing the two contrary states of the human soul, 1789-1794; the author & printer W.Blake\" }\t, \"date\": { \"type\": \"literal\", \"value\": \"1967\" }\t, \"place\": { \"type\": \"uri\", \"value\": \"http://sws.geonames.org/2635167/\" }},\n",
      "    { \"resource\": { \"type\": \"uri\", \"value\": \"http://bnb.data.bl.uk/id/resource/010310147\" }\t, \"title\": { \"type\": \"literal\", \"value\": \"William Blake, 1757-1827 : poems!\" }\t, \"date\": { \"type\": \"literal\", \"value\": \"1968\" }\t, \"place\": { \"type\": \"uri\", \"value\": \"http://sws.geonames.org/2635167/\" }},\n",
      "    { \"resource\": { \"type\": \"uri\", \"value\": \"http://bnb.data.bl.uk/id/resource/011585283\" }\t, \"title\": { \"type\": \"literal\", \"value\": \"A choice of Blake's verse\" }\t, \"date\": { \"type\": \"literal\", \"value\": \"1970\" }\t, \"place\": { \"type\": \"uri\", \"value\": \"http://sws.geonames.org/6269131/\" }},\n",
      "    { \"resource\": { \"type\": \"uri\", \"value\": \"http://bnb.data.bl.uk/id/resource/011587577\" }\t, \"title\": { \"type\": \"literal\", \"value\": \"William Blake: [selections]\" }\t, \"date\": { \"type\": \"literal\", \"value\": \"1969\" }\t, \"place\": { \"type\": \"uri\", \"value\": \"http://sws.geonames.org/6269131/\" }},\n",
      "    { \"resource\": { \"type\": \"uri\", \"value\": \"http://bnb.data.bl.uk/id/resource/011607410\" }\t, \"title\": { \"type\": \"literal\", \"value\": \"Proverbs of Hell\" }\t, \"date\": { \"type\": \"literal\", \"value\": \"1972\" }\t, \"place\": { \"type\": \"uri\", \"value\": \"http://sws.geonames.org/6269131/\" }},\n",
      "    { \"resource\": { \"type\": \"uri\", \"value\": \"http://bnb.data.bl.uk/id/resource/011609165\" }\t, \"title\": { \"type\": \"literal\", \"value\": \"Songs of innocence and of experience : facsimile of sixteen original plates\" }\t, \"date\": { \"type\": \"literal\", \"value\": \"1971\" }\t, \"place\": { \"type\": \"uri\", \"value\": \"http://sws.geonames.org/6269131/\" }},\n",
      "    { \"resource\": { \"type\": \"uri\", \"value\": \"http://bnb.data.bl.uk/id/resource/011938813\" }\t, \"title\": { \"type\": \"literal\", \"value\": \"The marriage of heaven and hell\" }\t, \"date\": { \"type\": \"literal\", \"value\": \"1975\" }\t, \"place\": { \"type\": \"uri\", \"value\": \"http://sws.geonames.org/6269131/\" }},\n",
      "    { \"resource\": { \"type\": \"uri\", \"value\": \"http://bnb.data.bl.uk/id/resource/011938918\" }\t, \"title\": { \"type\": \"literal\", \"value\": \"William Blake\" }\t, \"date\": { \"type\": \"literal\", \"value\": \"1986\" }\t, \"place\": { \"type\": \"uri\", \"value\": \"http://sws.geonames.org/6269131/\" }},\n",
      "    { \"resource\": { \"type\": \"uri\", \"value\": \"http://bnb.data.bl.uk/id/resource/011939305\" }\t, \"title\": { \"type\": \"literal\", \"value\": \"William Blake\" }\t, \"date\": { \"type\": \"literal\", \"value\": \"1988\" }\t, \"place\": { \"type\": \"uri\", \"value\": \"http://sws.geonames.org/6269131/\" }},\n",
      "    { \"resource\": { \"type\": \"uri\", \"value\": \"http://bnb.data.bl.uk/id/resource/013365391\" }\t, \"title\": { \"type\": \"literal\", \"value\": \"Selected poems\" }\t, \"date\": { \"type\": \"literal\", \"value\": \"2005\" }\t, \"place\": { \"type\": \"uri\", \"value\": \"http://sws.geonames.org/6269131/\" }},\n",
      "    { \"resource\": { \"type\": \"uri\", \"value\": \"http://bnb.data.bl.uk/id/resource/000370342\" }\t, \"title\": { \"type\": \"literal\", \"value\": \"America : a prophecy\" }\t, \"date\": { \"type\": \"literal\", \"value\": \"1963\" }\t, \"place\": { \"type\": \"uri\", \"value\": \"http://sws.geonames.org/3017382/\" }},\n",
      "    { \"resource\": { \"type\": \"uri\", \"value\": \"http://bnb.data.bl.uk/id/resource/000370347\" }\t, \"title\": { \"type\": \"literal\", \"value\": \"Auguries of innocence\" }\t, \"date\": { \"type\": \"literal\", \"value\": \"1970\" }\t, \"place\": { \"type\": \"uri\", \"value\": \"http://sws.geonames.org/6269131/\" }},\n",
      "    { \"resource\": { \"type\": \"uri\", \"value\": \"http://bnb.data.bl.uk/id/resource/005588763\" }\t, \"title\": { \"type\": \"literal\", \"value\": \"Songs of innocence\" }\t, \"date\": { \"type\": \"literal\", \"value\": \"1971\" }\t, \"place\": { \"type\": \"uri\", \"value\": \"http://sws.geonames.org/6269131/\" }},\n",
      "    { \"resource\": { \"type\": \"uri\", \"value\": \"http://bnb.data.bl.uk/id/resource/005654476\" }\t, \"title\": { \"type\": \"literal\", \"value\": \"William Blake : the complete illuminated books\" }\t, \"date\": { \"type\": \"literal\", \"value\": \"2001\" }\t, \"place\": { \"type\": \"uri\", \"value\": \"http://sws.geonames.org/6269131/\" }},\n",
      "    { \"resource\": { \"type\": \"uri\", \"value\": \"http://bnb.data.bl.uk/id/resource/006746274\" }\t, \"title\": { \"type\": \"literal\", \"value\": \"The early illuminated books\" }\t, \"date\": { \"type\": \"literal\", \"value\": \"1993\" }\t, \"place\": { \"type\": \"uri\", \"value\": \"http://sws.geonames.org/6269131/\" }},\n",
      "    { \"resource\": { \"type\": \"uri\", \"value\": \"http://bnb.data.bl.uk/id/resource/006746275\" }\t, \"title\": { \"type\": \"literal\", \"value\": \"The continental prophecies\" }\t, \"date\": { \"type\": \"literal\", \"value\": \"1995\" }\t, \"place\": { \"type\": \"uri\", \"value\": \"http://sws.geonames.org/6269131/\" }},\n",
      "    { \"resource\": { \"type\": \"uri\", \"value\": \"http://bnb.data.bl.uk/id/resource/006746276\" }\t, \"title\": { \"type\": \"literal\", \"value\": \"The Urizen books\" }\t, \"date\": { \"type\": \"literal\", \"value\": \"1995\" }\t, \"place\": { \"type\": \"uri\", \"value\": \"http://sws.geonames.org/6269131/\" }},\n",
      "    { \"resource\": { \"type\": \"uri\", \"value\": \"http://bnb.data.bl.uk/id/resource/006825727\" }\t, \"title\": { \"type\": \"literal\", \"value\": \"William Blake's designs for Edward Young's 'Night thoughts' : a complete edition\" }\t, \"date\": { \"type\": \"literal\", \"value\": \"1980\" }\t, \"place\": { \"type\": \"uri\", \"value\": \"http://sws.geonames.org/6269131/\" }},\n",
      "    { \"resource\": { \"type\": \"uri\", \"value\": \"http://bnb.data.bl.uk/id/resource/006890043\" }\t, \"title\": { \"type\": \"literal\", \"value\": \"The little people : stories of fairies, pixies and other small folk\" }\t, \"date\": { \"type\": \"literal\", \"value\": \"2002\" }\t, \"place\": { \"type\": \"uri\", \"value\": \"http://sws.geonames.org/6252001/\" }},\n",
      "    { \"resource\": { \"type\": \"uri\", \"value\": \"http://bnb.data.bl.uk/id/resource/006972463\" }\t, \"title\": { \"type\": \"literal\", \"value\": \"William Blake's engravings\" }\t, \"date\": { \"type\": \"literal\", \"value\": \"1950\" }\t, \"place\": { \"type\": \"uri\", \"value\": \"http://sws.geonames.org/2635167/\" }},\n",
      "    { \"resource\": { \"type\": \"uri\", \"value\": \"http://bnb.data.bl.uk/id/resource/007010310\" }\t, \"title\": { \"type\": \"literal\", \"value\": \"Songs of innocence and of experience, and other works...\" }\t, \"date\": { \"type\": \"literal\", \"value\": \"1970\" }\t, \"place\": { \"type\": \"uri\", \"value\": \"http://sws.geonames.org/6269131/\" }},\n",
      "    { \"resource\": { \"type\": \"uri\", \"value\": \"http://bnb.data.bl.uk/id/resource/007062956\" }\t, \"title\": { \"type\": \"literal\", \"value\": \"The fly\" }\t, \"date\": { \"type\": \"literal\", \"value\": \"1976\" }\t, \"place\": { \"type\": \"uri\", \"value\": \"http://sws.geonames.org/6269131/\" }},\n",
      "    { \"resource\": { \"type\": \"uri\", \"value\": \"http://bnb.data.bl.uk/id/resource/007238534\" }\t, \"title\": { \"type\": \"literal\", \"value\": \"Holes in the texture of time : a reading of William Blake from his notebooks, letters and prophetic works\" }\t, \"date\": { \"type\": \"literal\", \"value\": \"1994\" }\t, \"place\": { \"type\": \"uri\", \"value\": \"http://sws.geonames.org/6269131/\" }},\n",
      "    { \"resource\": { \"type\": \"uri\", \"value\": \"http://bnb.data.bl.uk/id/resource/007375335\" }\t, \"title\": { \"type\": \"literal\", \"value\": \"Blake : selected poems\" }\t, \"date\": { \"type\": \"literal\", \"value\": \"1996\" }\t, \"place\": { \"type\": \"uri\", \"value\": \"http://sws.geonames.org/6269131/\" }},\n",
      "    { \"resource\": { \"type\": \"uri\", \"value\": \"http://bnb.data.bl.uk/id/resource/007390602\" }\t, \"title\": { \"type\": \"literal\", \"value\": \"Selected poems\" }\t, \"date\": { \"type\": \"literal\", \"value\": \"1982\" }\t, \"place\": { \"type\": \"uri\", \"value\": \"http://sws.geonames.org/6269131/\" }},\n",
      "    { \"resource\": { \"type\": \"uri\", \"value\": \"http://bnb.data.bl.uk/id/resource/007392046\" }\t, \"title\": { \"type\": \"literal\", \"value\": \"Selected poems\" }\t, \"date\": { \"type\": \"literal\", \"value\": \"1994\" }\t, \"place\": { \"type\": \"uri\", \"value\": \"http://sws.geonames.org/6269131/\" }},\n",
      "    { \"resource\": { \"type\": \"uri\", \"value\": \"http://bnb.data.bl.uk/id/resource/007393761\" }\t, \"title\": { \"type\": \"literal\", \"value\": \"Poems of William Blake\" }\t, \"date\": { \"type\": \"literal\", \"value\": \"1979\" }\t, \"place\": { \"type\": \"uri\", \"value\": \"http://sws.geonames.org/6269131/\" }},\n",
      "    { \"resource\": { \"type\": \"uri\", \"value\": \"http://bnb.data.bl.uk/id/resource/007728714\" }\t, \"title\": { \"type\": \"literal\", \"value\": \"William Blake : the painter at work\" }\t, \"date\": { \"type\": \"literal\", \"value\": \"2003\" }\t, \"place\": { \"type\": \"uri\", \"value\": \"http://sws.geonames.org/6269131/\" }},\n",
      "    { \"resource\": { \"type\": \"uri\", \"value\": \"http://bnb.data.bl.uk/id/resource/008313390\" }\t, \"title\": { \"type\": \"literal\", \"value\": \"Jerusalem\" }\t, \"date\": { \"type\": \"literal\", \"value\": \"1953\" }\t, \"place\": { \"type\": \"uri\", \"value\": \"http://sws.geonames.org/2635167/\" }},\n",
      "    { \"resource\": { \"type\": \"uri\", \"value\": \"http://bnb.data.bl.uk/id/resource/009684354\" }\t, \"title\": { \"type\": \"literal\", \"value\": \"The poems of William Blake\" }\t, \"date\": { \"type\": \"literal\", \"value\": \"1971\" }\t, \"place\": { \"type\": \"uri\", \"value\": \"http://sws.geonames.org/6269131/\" }},\n",
      "    { \"resource\": { \"type\": \"uri\", \"value\": \"http://bnb.data.bl.uk/id/resource/009929858\" }\t, \"title\": { \"type\": \"literal\", \"value\": \"A divine image\" }\t, \"date\": { \"type\": \"literal\", \"value\": \"1968\" }\t, \"place\": { \"type\": \"uri\", \"value\": \"http://sws.geonames.org/2635167/\" }},\n",
      "    { \"resource\": { \"type\": \"uri\", \"value\": \"http://bnb.data.bl.uk/id/resource/011579867\" }\t, \"title\": { \"type\": \"literal\", \"value\": \"The Blake-Varley sketchbook of 1819 in the collection of M. D. E. Clayton-Stamm\" }\t, \"date\": { \"type\": \"literal\", \"value\": \"1969\" }\t, \"place\": { \"type\": \"uri\", \"value\": \"http://sws.geonames.org/6269131/\" }},\n",
      "    { \"resource\": { \"type\": \"uri\", \"value\": \"http://bnb.data.bl.uk/id/resource/011590152\" }\t, \"title\": { \"type\": \"literal\", \"value\": \"The essential Blake\" }\t, \"date\": { \"type\": \"literal\", \"value\": \"1968\" }\t, \"place\": { \"type\": \"uri\", \"value\": \"http://sws.geonames.org/2635167/\" }},\n",
      "    { \"resource\": { \"type\": \"uri\", \"value\": \"http://bnb.data.bl.uk/id/resource/011822409\" }\t, \"title\": { \"type\": \"literal\", \"value\": \"William Blake's Illustrations of the book of Job : the engravings and related material\" }\t, \"date\": { \"type\": \"literal\", \"value\": \"1987\" }\t, \"place\": { \"type\": \"uri\", \"value\": \"http://sws.geonames.org/6269131/\" }},\n",
      "    { \"resource\": { \"type\": \"uri\", \"value\": \"http://bnb.data.bl.uk/id/resource/012695475\" }\t, \"title\": { \"type\": \"literal\", \"value\": \"Poems of William Blake\" }\t, \"date\": { \"type\": \"literal\", \"value\": \"1995\" }\t, \"place\": { \"type\": \"uri\", \"value\": \"http://sws.geonames.org/6269131/\" }},\n",
      "    { \"resource\": { \"type\": \"uri\", \"value\": \"http://bnb.data.bl.uk/id/resource/014928905\" }\t, \"title\": { \"type\": \"literal\", \"value\": \"William Blake's Divine comedy illustrations : 102 full-color plates\" }\t, \"date\": { \"type\": \"literal\", \"value\": \"2008\" }\t, \"place\": { \"type\": \"uri\", \"value\": \"http://sws.geonames.org/6252001/\" }},\n",
      "    { \"resource\": { \"type\": \"uri\", \"value\": \"http://bnb.data.bl.uk/id/resource/016178806\" }\t, \"title\": { \"type\": \"literal\", \"value\": \"Songs of innocence ; and, Songs of experience\" }\t, \"date\": { \"type\": \"literal\", \"value\": \"2012\" }\t, \"place\": { \"type\": \"uri\", \"value\": \"http://sws.geonames.org/6269131/\" }},\n",
      "    { \"resource\": { \"type\": \"uri\", \"value\": \"http://bnb.data.bl.uk/id/resource/019025512\" }\t, \"title\": { \"type\": \"literal\", \"value\": \"William Blake\" }\t, \"date\": { \"type\": \"literal\", \"value\": \"2018\" }\t, \"place\": { \"type\": \"uri\", \"value\": \"http://sws.geonames.org/6269131/\" }},\n",
      "    { \"resource\": { \"type\": \"uri\", \"value\": \"http://bnb.data.bl.uk/id/resource/000370366\" }\t, \"title\": { \"type\": \"literal\", \"value\": \"Jerusalem : A facsimile of the illuminated book (printed in, or soon after, 1820)\" }\t, \"date\": { \"type\": \"literal\", \"value\": \"1951\" }\t, \"place\": { \"type\": \"uri\", \"value\": \"http://sws.geonames.org/6269131/\" }},\n",
      "    { \"resource\": { \"type\": \"uri\", \"value\": \"http://bnb.data.bl.uk/id/resource/000370444\" }\t, \"title\": { \"type\": \"literal\", \"value\": \"London\" }\t, \"date\": { \"type\": \"literal\", \"value\": \"1969\" }\t, \"place\": { \"type\": \"uri\", \"value\": \"http://sws.geonames.org/6269131/\" }},\n",
      "    { \"resource\": { \"type\": \"uri\", \"value\": \"http://bnb.data.bl.uk/id/resource/008735971\" }\t, \"title\": { \"type\": \"literal\", \"value\": \"Blake's Dante : the complete illustrations to the Divine comedy\" }\t, \"date\": { \"type\": \"literal\", \"value\": \"1981\" }\t, \"place\": { \"type\": \"uri\", \"value\": \"http://sws.geonames.org/6269131/\" }},\n",
      "    { \"resource\": { \"type\": \"uri\", \"value\": \"http://bnb.data.bl.uk/id/resource/008744842\" }\t, \"title\": { \"type\": \"literal\", \"value\": \"The complete graphic works of William Blake\" }\t, \"date\": { \"type\": \"literal\", \"value\": \"1978\" }\t, \"place\": { \"type\": \"uri\", \"value\": \"http://sws.geonames.org/6269131/\" }},\n",
      "    { \"resource\": { \"type\": \"uri\", \"value\": \"http://bnb.data.bl.uk/id/resource/008745802\" }\t, \"title\": { \"type\": \"literal\", \"value\": \"Milton\" }\t, \"date\": { \"type\": \"literal\", \"value\": \"1979\" }\t, \"place\": { \"type\": \"uri\", \"value\": \"http://sws.geonames.org/6269131/\" }},\n",
      "    { \"resource\": { \"type\": \"uri\", \"value\": \"http://bnb.data.bl.uk/id/resource/008745803\" }\t, \"title\": { \"type\": \"literal\", \"value\": \"The book of Urizen\" }\t, \"date\": { \"type\": \"literal\", \"value\": \"1979\" }\t, \"place\": { \"type\": \"uri\", \"value\": \"http://sws.geonames.org/6269131/\" }},\n",
      "    { \"resource\": { \"type\": \"uri\", \"value\": \"http://bnb.data.bl.uk/id/resource/008746768\" }\t, \"title\": { \"type\": \"literal\", \"value\": \"William Blake\" }\t, \"date\": { \"type\": \"literal\", \"value\": \"1977\" }\t, \"place\": { \"type\": \"uri\", \"value\": \"http://sws.geonames.org/6269131/\" }},\n",
      "    { \"resource\": { \"type\": \"uri\", \"value\": \"http://bnb.data.bl.uk/id/resource/008811579\" }\t, \"title\": { \"type\": \"literal\", \"value\": \"William Blake's 'Auguries of innocence'\" }\t, \"date\": { \"type\": \"literal\", \"value\": \"1975\" }\t, \"place\": { \"type\": \"uri\", \"value\": \"http://sws.geonames.org/6269131/\" }},\n",
      "    { \"resource\": { \"type\": \"uri\", \"value\": \"http://bnb.data.bl.uk/id/resource/009373586\" }\t, \"title\": { \"type\": \"literal\", \"value\": \"Poems and prose\" }\t, \"date\": { \"type\": \"literal\", \"value\": \"1997\" }\t, \"place\": { \"type\": \"uri\", \"value\": \"http://sws.geonames.org/6269131/\" }},\n",
      "    { \"resource\": { \"type\": \"uri\", \"value\": \"http://bnb.data.bl.uk/id/resource/009409932\" }\t, \"title\": { \"type\": \"literal\", \"value\": \"Reading Blake's designs\" }\t, \"date\": { \"type\": \"literal\", \"value\": \"1995\" }\t, \"place\": { \"type\": \"uri\", \"value\": \"http://sws.geonames.org/6269131/\" }},\n",
      "    { \"resource\": { \"type\": \"uri\", \"value\": \"http://bnb.data.bl.uk/id/resource/009410373\" }\t, \"title\": { \"type\": \"literal\", \"value\": \"Selected works\" }\t, \"date\": { \"type\": \"literal\", \"value\": \"1995\" }\t, \"place\": { \"type\": \"uri\", \"value\": \"http://sws.geonames.org/6269131/\" }},\n",
      "    { \"resource\": { \"type\": \"uri\", \"value\": \"http://bnb.data.bl.uk/id/resource/009459243\" }\t, \"title\": { \"type\": \"literal\", \"value\": \"William Blake : the seer and his visions\" }\t, \"date\": { \"type\": \"literal\", \"value\": \"1977\" }\t, \"place\": { \"type\": \"uri\", \"value\": \"http://sws.geonames.org/6269131/\" }},\n",
      "    { \"resource\": { \"type\": \"uri\", \"value\": \"http://bnb.data.bl.uk/id/resource/009463608\" }\t, \"title\": { \"type\": \"literal\", \"value\": \"Selected engravings [of] William Blake\" }\t, \"date\": { \"type\": \"literal\", \"value\": \"1975\" }\t, \"place\": { \"type\": \"uri\", \"value\": \"http://sws.geonames.org/6269131/\" }},\n",
      "    { \"resource\": { \"type\": \"uri\", \"value\": \"http://bnb.data.bl.uk/id/resource/009467965\" }\t, \"title\": { \"type\": \"literal\", \"value\": \"Robert Blair's The grave illustrated by William Blake : a study with facsimile\" }\t, \"date\": { \"type\": \"literal\", \"value\": \"1982\" }\t, \"place\": { \"type\": \"uri\", \"value\": \"http://sws.geonames.org/6269131/\" }},\n",
      "    { \"resource\": { \"type\": \"uri\", \"value\": \"http://bnb.data.bl.uk/id/resource/009913098\" }\t, \"title\": { \"type\": \"literal\", \"value\": \"The book of Los\" }\t, \"date\": { \"type\": \"literal\", \"value\": \"1976\" }\t, \"place\": { \"type\": \"uri\", \"value\": \"http://sws.geonames.org/6269131/\" }},\n",
      "    { \"resource\": { \"type\": \"uri\", \"value\": \"http://bnb.data.bl.uk/id/resource/009914213\" }\t, \"title\": { \"type\": \"literal\", \"value\": \"The lamb\" }\t, \"date\": { \"type\": \"literal\", \"value\": \"1998\" }\t, \"place\": { \"type\": \"uri\", \"value\": \"http://sws.geonames.org/6269131/\" }},\n",
      "    { \"resource\": { \"type\": \"uri\", \"value\": \"http://bnb.data.bl.uk/id/resource/009914214\" }\t, \"title\": { \"type\": \"literal\", \"value\": \"The tyger\" }\t, \"date\": { \"type\": \"literal\", \"value\": \"1996\" }\t, \"place\": { \"type\": \"uri\", \"value\": \"http://sws.geonames.org/6269131/\" }},\n",
      "    { \"resource\": { \"type\": \"uri\", \"value\": \"http://bnb.data.bl.uk/id/resource/013071216\" }\t, \"title\": { \"type\": \"literal\", \"value\": \"Visions of the daughters of Albion\" }\t, \"date\": { \"type\": \"literal\", \"value\": \"2002\" }\t, \"place\": { \"type\": \"uri\", \"value\": \"http://sws.geonames.org/6252001/\" }},\n",
      "    { \"resource\": { \"type\": \"uri\", \"value\": \"http://bnb.data.bl.uk/id/resource/013541275\" }\t, \"title\": { \"type\": \"literal\", \"value\": \"Blake's poetry and designs : illuminated works, other writings, criticism\" }\t, \"date\": { \"type\": \"literal\", \"value\": \"2008\" }\t, \"place\": { \"type\": \"uri\", \"value\": \"http://sws.geonames.org/6252001/\" }},\n",
      "    { \"resource\": { \"type\": \"uri\", \"value\": \"http://bnb.data.bl.uk/id/resource/013548032\" }\t, \"title\": { \"type\": \"literal\", \"value\": \"Blake : the complete poems\" }\t, \"date\": { \"type\": \"literal\", \"value\": \"2007\" }\t, \"place\": { \"type\": \"uri\", \"value\": \"http://sws.geonames.org/6269131/\" }},\n",
      "    { \"resource\": { \"type\": \"uri\", \"value\": \"http://bnb.data.bl.uk/id/resource/013571448\" }\t, \"title\": { \"type\": \"literal\", \"value\": \"Jerusalem\" }\t, \"date\": { \"type\": \"literal\", \"value\": \"2006\" }\t, \"place\": { \"type\": \"uri\", \"value\": \"http://sws.geonames.org/6269131/\" }},\n",
      "    { \"resource\": { \"type\": \"uri\", \"value\": \"http://bnb.data.bl.uk/id/resource/013747205\" }\t, \"title\": { \"type\": \"literal\", \"value\": \"An island in the moon\" }\t, \"date\": { \"type\": \"literal\", \"value\": \"2007\" }\t, \"place\": { \"type\": \"uri\", \"value\": \"http://sws.geonames.org/6269131/\" }},\n",
      "    { \"resource\": { \"type\": \"uri\", \"value\": \"http://bnb.data.bl.uk/id/resource/014881208\" }\t, \"title\": { \"type\": \"literal\", \"value\": \"A memorable fancy : the marriage of heaven and hell\" }\t, \"date\": { \"type\": \"literal\", \"value\": \"2007\" }\t, \"place\": { \"type\": \"uri\", \"value\": \"http://sws.geonames.org/6269131/\" }},\n",
      "    { \"resource\": { \"type\": \"uri\", \"value\": \"http://bnb.data.bl.uk/id/resource/015752858\" }\t, \"title\": { \"type\": \"literal\", \"value\": \"William Blake : poems\" }\t, \"date\": { \"type\": \"literal\", \"value\": \"2011\" }\t, \"place\": { \"type\": \"uri\", \"value\": \"http://sws.geonames.org/6269131/\" }},\n",
      "    { \"resource\": { \"type\": \"uri\", \"value\": \"http://bnb.data.bl.uk/id/resource/009392584\" }\t, \"title\": { \"type\": \"literal\", \"value\": \"The human form divine : William Blake from the Paul Mellon Collection\" }\t, \"date\": { \"type\": \"literal\", \"value\": \"1997\" }\t, \"place\": { \"type\": \"uri\", \"value\": \"http://sws.geonames.org/6269131/\" }},\n",
      "    { \"resource\": { \"type\": \"uri\", \"value\": \"http://bnb.data.bl.uk/id/resource/009640823\" }\t, \"title\": { \"type\": \"literal\", \"value\": \"Songs of innocence\" }\t, \"date\": { \"type\": \"literal\", \"value\": \"1954\" }\t, \"place\": { \"type\": \"uri\", \"value\": \"http://sws.geonames.org/6269131/\" }},\n",
      "    { \"resource\": { \"type\": \"uri\", \"value\": \"http://bnb.data.bl.uk/id/resource/009689997\" }\t, \"title\": { \"type\": \"literal\", \"value\": \"The grave : a poem illustrated by twelve etchings\" }\t, \"date\": { \"type\": \"literal\", \"value\": \"1973\" }\t, \"place\": { \"type\": \"uri\", \"value\": \"http://sws.geonames.org/6269131/\" }},\n",
      "    { \"resource\": { \"type\": \"uri\", \"value\": \"http://bnb.data.bl.uk/id/resource/010954831\" }\t, \"title\": { \"type\": \"literal\", \"value\": \"William Blake [selections]\" }\t, \"date\": { \"type\": \"literal\", \"value\": \"1970\" }\t, \"place\": { \"type\": \"uri\", \"value\": \"http://sws.geonames.org/6269131/\" }},\n",
      "    { \"resource\": { \"type\": \"uri\", \"value\": \"http://bnb.data.bl.uk/id/resource/011975721\" }\t, \"title\": { \"type\": \"literal\", \"value\": \"Milton, a poem : and the final illuminated works : The ghost of Abel, On Homers poetry (and) On Virgil, Laoco\\u00F6n\" }\t, \"date\": { \"type\": \"literal\", \"value\": \"1993\" }\t, \"place\": { \"type\": \"uri\", \"value\": \"http://sws.geonames.org/6269131/\" }},\n",
      "    { \"resource\": { \"type\": \"uri\", \"value\": \"http://bnb.data.bl.uk/id/resource/011975930\" }\t, \"title\": { \"type\": \"literal\", \"value\": \"William Blake, printmaker\" }\t, \"date\": { \"type\": \"literal\", \"value\": \"1980\" }\t, \"place\": { \"type\": \"uri\", \"value\": \"http://sws.geonames.org/6269131/\" }},\n",
      "    { \"resource\": { \"type\": \"uri\", \"value\": \"http://bnb.data.bl.uk/id/resource/011975967\" }\t, \"title\": { \"type\": \"literal\", \"value\": \"The separate plates of William Blake : a catalogue\" }\t, \"date\": { \"type\": \"literal\", \"value\": \"1983\" }\t, \"place\": { \"type\": \"uri\", \"value\": \"http://sws.geonames.org/6269131/\" }},\n",
      "    { \"resource\": { \"type\": \"uri\", \"value\": \"http://bnb.data.bl.uk/id/resource/012033296\" }\t, \"title\": { \"type\": \"literal\", \"value\": \"The works of William Blake : with an introduction and bibliography\" }\t, \"date\": { \"type\": \"literal\", \"value\": \"1994\" }\t, \"place\": { \"type\": \"uri\", \"value\": \"http://sws.geonames.org/6269131/\" }},\n",
      "    { \"resource\": { \"type\": \"uri\", \"value\": \"http://bnb.data.bl.uk/id/resource/012033334\" }\t, \"title\": { \"type\": \"literal\", \"value\": \"The selected poems of William Blake\" }\t, \"date\": { \"type\": \"literal\", \"value\": \"2000\" }\t, \"place\": { \"type\": \"uri\", \"value\": \"http://sws.geonames.org/6269131/\" }},\n",
      "    { \"resource\": { \"type\": \"uri\", \"value\": \"http://bnb.data.bl.uk/id/resource/012038008\" }\t, \"title\": { \"type\": \"literal\", \"value\": \"Songs of innocence and of experience and other works\" }\t, \"date\": { \"type\": \"literal\", \"value\": \"1988\" }\t, \"place\": { \"type\": \"uri\", \"value\": \"http://sws.geonames.org/6269131/\" }},\n",
      "    { \"resource\": { \"type\": \"uri\", \"value\": \"http://bnb.data.bl.uk/id/resource/012041413\" }\t, \"title\": { \"type\": \"literal\", \"value\": \"William Blake\" }\t, \"date\": { \"type\": \"literal\", \"value\": \"1989\" }\t, \"place\": { \"type\": \"uri\", \"value\": \"http://sws.geonames.org/6269131/\" }},\n",
      "    { \"resource\": { \"type\": \"uri\", \"value\": \"http://bnb.data.bl.uk/id/resource/012044444\" }\t, \"title\": { \"type\": \"literal\", \"value\": \"Jerusalem : the emanation of the Giant Albion\" }\t, \"date\": { \"type\": \"literal\", \"value\": \"1991\" }\t, \"place\": { \"type\": \"uri\", \"value\": \"http://sws.geonames.org/6269131/\" }},\n",
      "    { \"resource\": { \"type\": \"uri\", \"value\": \"http://bnb.data.bl.uk/id/resource/012044445\" }\t, \"title\": { \"type\": \"literal\", \"value\": \"Songs of innocence and of experience\" }\t, \"date\": { \"type\": \"literal\", \"value\": \"1991\" }\t, \"place\": { \"type\": \"uri\", \"value\": \"http://sws.geonames.org/6269131/\" }},\n",
      "    { \"resource\": { \"type\": \"uri\", \"value\": \"http://bnb.data.bl.uk/id/resource/012044475\" }\t, \"title\": { \"type\": \"literal\", \"value\": \"Milton, a poem : and the final illuminated works : The ghost of Abel, On Homers poetry (and) On Virgil, Laoco\\\"on\" }\t, \"date\": { \"type\": \"literal\", \"value\": \"1993\" }\t, \"place\": { \"type\": \"uri\", \"value\": \"http://sws.geonames.org/6269131/\" }},\n",
      "    { \"resource\": { \"type\": \"uri\", \"value\": \"http://bnb.data.bl.uk/id/resource/012046087\" }\t, \"title\": { \"type\": \"literal\", \"value\": \"A descriptive catalogue 1809\" }\t, \"date\": { \"type\": \"literal\", \"value\": \"1990\" }\t, \"place\": { \"type\": \"uri\", \"value\": \"http://sws.geonames.org/6269131/\" }},\n",
      "    { \"resource\": { \"type\": \"uri\", \"value\": \"http://bnb.data.bl.uk/id/resource/012046266\" }\t, \"title\": { \"type\": \"literal\", \"value\": \"Original stories from real life, 1791\" }\t, \"date\": { \"type\": \"literal\", \"value\": \"2001\" }\t, \"place\": { \"type\": \"uri\", \"value\": \"http://sws.geonames.org/6269131/\" }},\n",
      "    { \"resource\": { \"type\": \"uri\", \"value\": \"http://bnb.data.bl.uk/id/resource/012242332\" }\t, \"title\": { \"type\": \"literal\", \"value\": \"Tyger, tyger\" }\t, \"date\": { \"type\": \"literal\", \"value\": \"1969\" }\t, \"place\": { \"type\": \"uri\", \"value\": \"http://sws.geonames.org/6269131/\" }},\n",
      "    { \"resource\": { \"type\": \"uri\", \"value\": \"http://bnb.data.bl.uk/id/resource/012242333\" }\t, \"title\": { \"type\": \"literal\", \"value\": \"The fly\" }\t, \"date\": { \"type\": \"literal\", \"value\": \"1968\" }\t, \"place\": { \"type\": \"uri\", \"value\": \"http://sws.geonames.org/6269131/\" }},\n",
      "    { \"resource\": { \"type\": \"uri\", \"value\": \"http://bnb.data.bl.uk/id/resource/012242334\" }\t, \"title\": { \"type\": \"literal\", \"value\": \"The chimney sweeper\" }\t, \"date\": { \"type\": \"literal\", \"value\": \"1969\" }\t, \"place\": { \"type\": \"uri\", \"value\": \"http://sws.geonames.org/6269131/\" }},\n",
      "    { \"resource\": { \"type\": \"uri\", \"value\": \"http://bnb.data.bl.uk/id/resource/012242343\" }\t, \"title\": { \"type\": \"literal\", \"value\": \"The divine image\" }\t, \"date\": { \"type\": \"literal\", \"value\": \"1970\" }\t, \"place\": { \"type\": \"uri\", \"value\": \"http://sws.geonames.org/6269131/\" }},\n",
      "    { \"resource\": { \"type\": \"uri\", \"value\": \"http://bnb.data.bl.uk/id/resource/012245784\" }\t, \"title\": { \"type\": \"literal\", \"value\": \"Infant sorrow\" }\t, \"date\": { \"type\": \"literal\", \"value\": \"1970\" }\t, \"place\": { \"type\": \"uri\", \"value\": \"http://sws.geonames.org/6269131/\" }},\n",
      "    { \"resource\": { \"type\": \"uri\", \"value\": \"http://bnb.data.bl.uk/id/resource/012597358\" }\t, \"title\": { \"type\": \"literal\", \"value\": \"William Blake's writings\" }\t, \"date\": { \"type\": \"literal\", \"value\": \"1978\" }\t, \"place\": { \"type\": \"uri\", \"value\": \"http://sws.geonames.org/6269131/\" }},\n",
      "    { \"resource\": { \"type\": \"uri\", \"value\": \"http://bnb.data.bl.uk/id/resource/012597596\" }\t, \"title\": { \"type\": \"literal\", \"value\": \"The letters of William Blake : with related documents\" }\t, \"date\": { \"type\": \"literal\", \"value\": \"1980\" }\t, \"place\": { \"type\": \"uri\", \"value\": \"http://sws.geonames.org/6269131/\" }},\n",
      "    { \"resource\": { \"type\": \"uri\", \"value\": \"http://bnb.data.bl.uk/id/resource/012683695\" }\t, \"title\": { \"type\": \"literal\", \"value\": \"On the morning of Christ's Nativity : Milton's hymn\" }\t, \"date\": { \"type\": \"literal\", \"value\": \"1981\" }\t, \"place\": { \"type\": \"uri\", \"value\": \"http://sws.geonames.org/6269131/\" }},\n",
      "    { \"resource\": { \"type\": \"uri\", \"value\": \"http://bnb.data.bl.uk/id/resource/012701444\" }\t, \"title\": { \"type\": \"literal\", \"value\": \"Poems and prophecies\" }\t, \"date\": { \"type\": \"literal\", \"value\": \"1991\" }\t, \"place\": { \"type\": \"uri\", \"value\": \"http://sws.geonames.org/6269131/\" }},\n",
      "    { \"resource\": { \"type\": \"uri\", \"value\": \"http://bnb.data.bl.uk/id/resource/013195804\" }\t, \"title\": { \"type\": \"literal\", \"value\": \"William Blake : an introduction\" }\t, \"date\": { \"type\": \"literal\", \"value\": \"2004\" }\t, \"place\": { \"type\": \"uri\", \"value\": \"http://sws.geonames.org/6269131/\" }},\n",
      "    { \"resource\": { \"type\": \"uri\", \"value\": \"http://bnb.data.bl.uk/id/resource/013418280\" }\t, \"title\": { \"type\": \"literal\", \"value\": \"Songs of innocence & experience\" }\t, \"date\": { \"type\": \"literal\", \"value\": \"1996\" }\t, \"place\": { \"type\": \"uri\", \"value\": \"http://sws.geonames.org/6269131/\" }},\n",
      "    { \"resource\": { \"type\": \"uri\", \"value\": \"http://bnb.data.bl.uk/id/resource/014614021\" }\t, \"title\": { \"type\": \"literal\", \"value\": \"Selected poetry\" }\t, \"date\": { \"type\": \"literal\", \"value\": \"2008\" }\t, \"place\": { \"type\": \"uri\", \"value\": \"http://sws.geonames.org/6269131/\" }},\n",
      "    { \"resource\": { \"type\": \"uri\", \"value\": \"http://bnb.data.bl.uk/id/resource/014937300\" }\t, \"title\": { \"type\": \"literal\", \"value\": \"William Blake : the complete illuminated books\" }\t, \"date\": { \"type\": \"literal\", \"value\": \"2009\" }\t, \"place\": { \"type\": \"uri\", \"value\": \"http://sws.geonames.org/6269131/\" }},\n",
      "    { \"resource\": { \"type\": \"uri\", \"value\": \"http://bnb.data.bl.uk/id/resource/014938247\" }\t, \"title\": { \"type\": \"literal\", \"value\": \"Songs of innocence and of experience\" }\t, \"date\": { \"type\": \"literal\", \"value\": \"2009\" }\t, \"place\": { \"type\": \"uri\", \"value\": \"http://sws.geonames.org/6269131/\" }},\n",
      "    { \"resource\": { \"type\": \"uri\", \"value\": \"http://bnb.data.bl.uk/id/resource/015663888\" }\t, \"title\": { \"type\": \"literal\", \"value\": \"Songs of innocence and of experience\" }\t, \"date\": { \"type\": \"literal\", \"value\": \"2011\" }\t, \"place\": { \"type\": \"uri\", \"value\": \"http://sws.geonames.org/6252001/\" }},\n",
      "    { \"resource\": { \"type\": \"uri\", \"value\": \"http://bnb.data.bl.uk/id/resource/015684884\" }\t, \"title\": { \"type\": \"literal\", \"value\": \"Songs of innocence and of experience\" }\t, \"date\": { \"type\": \"literal\", \"value\": \"2011\" }\t, \"place\": { \"type\": \"uri\", \"value\": \"http://sws.geonames.org/6269131/\" }},\n",
      "    { \"resource\": { \"type\": \"uri\", \"value\": \"http://bnb.data.bl.uk/id/resource/015713118\" }\t, \"title\": { \"type\": \"literal\", \"value\": \"William Blake on his poetry and painting : a study of A descriptive catalogue, other prose writings, and Jerusalem\" }\t, \"date\": { \"type\": \"literal\", \"value\": \"2011\" }\t, \"place\": { \"type\": \"uri\", \"value\": \"http://sws.geonames.org/6252001/\" }},\n",
      "    { \"resource\": { \"type\": \"uri\", \"value\": \"http://bnb.data.bl.uk/id/resource/017618272\" }\t, \"title\": { \"type\": \"literal\", \"value\": \"Blake : the complete poems\" }\t, \"date\": { \"type\": \"literal\", \"value\": \"2015\" }\t, \"place\": { \"type\": \"uri\", \"value\": \"http://sws.geonames.org/6269131/\" }},\n",
      "    { \"resource\": { \"type\": \"uri\", \"value\": \"http://bnb.data.bl.uk/id/resource/018527059\" }\t, \"title\": { \"type\": \"literal\", \"value\": \"Poems\" }\t, \"date\": { \"type\": \"literal\", \"value\": \"2007\" }\t, \"place\": { \"type\": \"uri\", \"value\": \"http://sws.geonames.org/6269131/\" }},\n",
      "    { \"resource\": { \"type\": \"uri\", \"value\": \"http://bnb.data.bl.uk/id/resource/009652929\" }\t, \"title\": { \"type\": \"literal\", \"value\": \"Blake's pencil drawings\" }\t, \"date\": { \"type\": \"literal\", \"value\": \"1956\" }\t, \"place\": { \"type\": \"uri\", \"value\": \"http://sws.geonames.org/2635167/\" }},\n",
      "    { \"resource\": { \"type\": \"uri\", \"value\": \"http://bnb.data.bl.uk/id/resource/000370303\" }\t, \"title\": { \"type\": \"literal\", \"value\": \"Blake's Poems and Prophecies, etc\" }\t, \"date\": { \"type\": \"literal\", \"value\": \"1954\" }\t, \"place\": { \"type\": \"uri\", \"value\": \"http://sws.geonames.org/6269131/\" }},\n",
      "    { \"resource\": { \"type\": \"uri\", \"value\": \"http://bnb.data.bl.uk/id/resource/012046106\" }\t, \"title\": { \"type\": \"literal\", \"value\": \"Original stories from real life, 1791\" }\t, \"date\": { \"type\": \"literal\", \"value\": \"1990\" }\t, \"place\": { \"type\": \"uri\", \"value\": \"http://sws.geonames.org/6269131/\" }},\n",
      "    { \"resource\": { \"type\": \"uri\", \"value\": \"http://bnb.data.bl.uk/id/resource/010926859\" }\t, \"title\": { \"type\": \"literal\", \"value\": \"The book of Urizen\" }\t, \"date\": { \"type\": \"literal\", \"value\": \"1958\" }\t, \"place\": { \"type\": \"uri\", \"value\": \"http://sws.geonames.org/2635167/\" }},\n",
      "    { \"resource\": { \"type\": \"uri\", \"value\": \"http://bnb.data.bl.uk/id/resource/000370415\" }\t, \"title\": { \"type\": \"literal\", \"value\": \"Songs of innocence and of experience, shewing the two contrary states of the human soul\" }\t, \"date\": { \"type\": \"literal\", \"value\": \"1955\" }},\n",
      "    { \"resource\": { \"type\": \"uri\", \"value\": \"http://bnb.data.bl.uk/id/resource/007240737\" }\t, \"title\": { \"type\": \"literal\", \"value\": \"The journal of the Blake Society at St James\" }\t, \"date\": { \"type\": \"literal\", \"value\": \"1995\" }} ] } }\n"
     ]
    }
   ],
   "source": [
    "url = 'https://bnb.data.bl.uk/sparql'\n",
    "query = \"\"\"\n",
    "PREFIX bibo: <http://purl.org/ontology/bibo/>\n",
    "PREFIX bio: <http://purl.org/vocab/bio/0.1/>\n",
    "PREFIX blt: <http://www.bl.uk/schemas/bibliographic/blterms#>\n",
    "PREFIX dct: <http://purl.org/dc/terms/>\n",
    "PREFIX event: <http://purl.org/NET/c4dm/event.owl#>\n",
    "PREFIX foaf: <http://xmlns.com/foaf/0.1/>\n",
    "PREFIX geo: <http://www.w3.org/2003/01/geo/wgs84_pos#>\n",
    "PREFIX isbd: <http://iflastandards.info/ns/isbd/elements/>\n",
    "PREFIX org: <http://www.w3.org/ns/org#>\n",
    "PREFIX owl: <http://www.w3.org/2002/07/owl#>\n",
    "PREFIX rdau: <http://rdaregistry.info/Elements/u/>\n",
    "PREFIX madsrdf: <http://www.loc.gov/mads/rdf/v1#>\n",
    "PREFIX rdf: <http://www.w3.org/1999/02/22-rdf-syntax-ns#>\n",
    "PREFIX rdfs: <http://www.w3.org/2000/01/rdf-schema#>\n",
    "PREFIX skos: <http://www.w3.org/2004/02/skos/core#>\n",
    "PREFIX void: <http://rdfs.org/ns/void#>\n",
    "PREFIX xsd: <http://www.w3.org/2001/XMLSchema#>\n",
    "PREFIX umbel: <http://umbel.org/umbel#>\n",
    "PREFIX schema: <http://schema.org/>\n",
    "PREFIX c4dm: <http://purl.org/NET/c4dm/event.owl#>\n",
    "\n",
    "SELECT DISTINCT ?resource ?title ?date ?place WHERE {{\n",
    "      ?resource ?p <{0}> ;\n",
    "         dct:title ?title ;\n",
    "         schema:datePublished ?date .\n",
    "      OPTIONAL {{\n",
    "          ?resource blt:projectedPublication ?publication .\n",
    "          ?publication c4dm:place ?place .\n",
    "          FILTER regex(?place, \"geonames\", \"i\")        \n",
    "      }}\n",
    "      OPTIONAL {{\n",
    "          ?resource blt:publication ?publication .\n",
    "          ?publication c4dm:place ?place .\n",
    "          FILTER regex(?place, \"geonames\", \"i\")        \n",
    "      }}\n",
    "}} LIMIT 500\n",
    "\"\"\"\n",
    "\n",
    "query = query.format(bnbIdAuthor)\n",
    "\n",
    "# use json as a result\n",
    "headers = {'Accept': 'application/sparql-results+json'}\n",
    "r = requests.get(url, params = {'format': 'application/sparql-results+json', 'query': query}, headers=headers)\n",
    "print('Elements retrieved!')\n",
    "print(r.text)"
   ]
  },
  {
   "cell_type": "markdown",
   "metadata": {},
   "source": [
    "## Save as a CSV "
   ]
  },
  {
   "cell_type": "code",
   "execution_count": 55,
   "metadata": {},
   "outputs": [],
   "source": [
    "bnbdata = json.loads(r.text)\n",
    "\n",
    "csv_out = csv.writer(open('bnb_records.csv', 'w'), delimiter = ',', quotechar = '\"', quoting = csv.QUOTE_MINIMAL)\n",
    "csv_out.writerow(['resource', 'place', 'title', 'date'])\n",
    "\n",
    "for i in bnbdata['results']['bindings']:\n",
    "    resource = place = title = date =''\n",
    "    \n",
    "    resource = i['resource']['value']\n",
    "    if \"place\" in i:\n",
    "        place = i['place']['value']\n",
    "    title = i['title']['value']\n",
    "    date = i['date']['value']\n",
    "    \n",
    "    csv_out.writerow([resource,place,title,date])"
   ]
  },
  {
   "cell_type": "markdown",
   "metadata": {},
   "source": [
    "## Exploring the data"
   ]
  },
  {
   "cell_type": "code",
   "execution_count": 56,
   "metadata": {},
   "outputs": [],
   "source": [
    "# Load the CSV file from GitHub.\n",
    "# This puts the data in a Pandas DataFrame\n",
    "df = pd.read_csv('bnb_records.csv')"
   ]
  },
  {
   "cell_type": "code",
   "execution_count": 57,
   "metadata": {},
   "outputs": [
    {
     "data": {
      "text/html": [
       "<div>\n",
       "<style scoped>\n",
       "    .dataframe tbody tr th:only-of-type {\n",
       "        vertical-align: middle;\n",
       "    }\n",
       "\n",
       "    .dataframe tbody tr th {\n",
       "        vertical-align: top;\n",
       "    }\n",
       "\n",
       "    .dataframe thead th {\n",
       "        text-align: right;\n",
       "    }\n",
       "</style>\n",
       "<table border=\"1\" class=\"dataframe\">\n",
       "  <thead>\n",
       "    <tr style=\"text-align: right;\">\n",
       "      <th></th>\n",
       "      <th>resource</th>\n",
       "      <th>place</th>\n",
       "      <th>title</th>\n",
       "      <th>date</th>\n",
       "    </tr>\n",
       "  </thead>\n",
       "  <tbody>\n",
       "    <tr>\n",
       "      <th>0</th>\n",
       "      <td>http://bnb.data.bl.uk/id/resource/011616972</td>\n",
       "      <td>http://sws.geonames.org/6269131/</td>\n",
       "      <td>William Blake : the complete illuminated books</td>\n",
       "      <td>2000-11</td>\n",
       "    </tr>\n",
       "    <tr>\n",
       "      <th>1</th>\n",
       "      <td>http://bnb.data.bl.uk/id/resource/018235701</td>\n",
       "      <td>http://sws.geonames.org/2921044/</td>\n",
       "      <td>William Blake, the drawings for Dante's Divine...</td>\n",
       "      <td>2017-04</td>\n",
       "    </tr>\n",
       "    <tr>\n",
       "      <th>2</th>\n",
       "      <td>http://bnb.data.bl.uk/id/resource/016739115</td>\n",
       "      <td>http://sws.geonames.org/6269131/</td>\n",
       "      <td>Blake : the complete poems</td>\n",
       "      <td>2014-05</td>\n",
       "    </tr>\n",
       "    <tr>\n",
       "      <th>3</th>\n",
       "      <td>http://bnb.data.bl.uk/id/resource/018468951</td>\n",
       "      <td>http://sws.geonames.org/6269131/</td>\n",
       "      <td>Paradise lost</td>\n",
       "      <td>2017-10</td>\n",
       "    </tr>\n",
       "    <tr>\n",
       "      <th>4</th>\n",
       "      <td>http://bnb.data.bl.uk/id/resource/019347537</td>\n",
       "      <td>http://sws.geonames.org/6269131/</td>\n",
       "      <td>William Blake : poetry</td>\n",
       "      <td>2019-06</td>\n",
       "    </tr>\n",
       "    <tr>\n",
       "      <th>...</th>\n",
       "      <td>...</td>\n",
       "      <td>...</td>\n",
       "      <td>...</td>\n",
       "      <td>...</td>\n",
       "    </tr>\n",
       "    <tr>\n",
       "      <th>133</th>\n",
       "      <td>http://bnb.data.bl.uk/id/resource/019025512</td>\n",
       "      <td>http://sws.geonames.org/6269131/</td>\n",
       "      <td>William Blake</td>\n",
       "      <td>2018</td>\n",
       "    </tr>\n",
       "    <tr>\n",
       "      <th>134</th>\n",
       "      <td>http://bnb.data.bl.uk/id/resource/000370366</td>\n",
       "      <td>http://sws.geonames.org/6269131/</td>\n",
       "      <td>Jerusalem : A facsimile of the illuminated boo...</td>\n",
       "      <td>1951</td>\n",
       "    </tr>\n",
       "    <tr>\n",
       "      <th>135</th>\n",
       "      <td>http://bnb.data.bl.uk/id/resource/000370444</td>\n",
       "      <td>http://sws.geonames.org/6269131/</td>\n",
       "      <td>London</td>\n",
       "      <td>1969</td>\n",
       "    </tr>\n",
       "    <tr>\n",
       "      <th>136</th>\n",
       "      <td>http://bnb.data.bl.uk/id/resource/008735971</td>\n",
       "      <td>http://sws.geonames.org/6269131/</td>\n",
       "      <td>Blake's Dante : the complete illustrations to ...</td>\n",
       "      <td>1981</td>\n",
       "    </tr>\n",
       "    <tr>\n",
       "      <th>137</th>\n",
       "      <td>NaN</td>\n",
       "      <td>http://sws.geonames.org/6269131/</td>\n",
       "      <td>Pericles, Prince of Tyre</td>\n",
       "      <td>1969</td>\n",
       "    </tr>\n",
       "  </tbody>\n",
       "</table>\n",
       "<p>138 rows × 4 columns</p>\n",
       "</div>"
      ],
      "text/plain": [
       "                                        resource  \\\n",
       "0    http://bnb.data.bl.uk/id/resource/011616972   \n",
       "1    http://bnb.data.bl.uk/id/resource/018235701   \n",
       "2    http://bnb.data.bl.uk/id/resource/016739115   \n",
       "3    http://bnb.data.bl.uk/id/resource/018468951   \n",
       "4    http://bnb.data.bl.uk/id/resource/019347537   \n",
       "..                                           ...   \n",
       "133  http://bnb.data.bl.uk/id/resource/019025512   \n",
       "134  http://bnb.data.bl.uk/id/resource/000370366   \n",
       "135  http://bnb.data.bl.uk/id/resource/000370444   \n",
       "136  http://bnb.data.bl.uk/id/resource/008735971   \n",
       "137                                          NaN   \n",
       "\n",
       "                                place  \\\n",
       "0    http://sws.geonames.org/6269131/   \n",
       "1    http://sws.geonames.org/2921044/   \n",
       "2    http://sws.geonames.org/6269131/   \n",
       "3    http://sws.geonames.org/6269131/   \n",
       "4    http://sws.geonames.org/6269131/   \n",
       "..                                ...   \n",
       "133  http://sws.geonames.org/6269131/   \n",
       "134  http://sws.geonames.org/6269131/   \n",
       "135  http://sws.geonames.org/6269131/   \n",
       "136  http://sws.geonames.org/6269131/   \n",
       "137  http://sws.geonames.org/6269131/   \n",
       "\n",
       "                                                 title     date  \n",
       "0       William Blake : the complete illuminated books  2000-11  \n",
       "1    William Blake, the drawings for Dante's Divine...  2017-04  \n",
       "2                           Blake : the complete poems  2014-05  \n",
       "3                                        Paradise lost  2017-10  \n",
       "4                               William Blake : poetry  2019-06  \n",
       "..                                                 ...      ...  \n",
       "133                                      William Blake     2018  \n",
       "134  Jerusalem : A facsimile of the illuminated boo...     1951  \n",
       "135                                             London     1969  \n",
       "136  Blake's Dante : the complete illustrations to ...     1981  \n",
       "137                           Pericles, Prince of Tyre     1969  \n",
       "\n",
       "[138 rows x 4 columns]"
      ]
     },
     "execution_count": 57,
     "metadata": {},
     "output_type": "execute_result"
    }
   ],
   "source": [
    "df"
   ]
  },
  {
   "cell_type": "markdown",
   "metadata": {},
   "source": [
    "## How many items?"
   ]
  },
  {
   "cell_type": "code",
   "execution_count": 58,
   "metadata": {},
   "outputs": [
    {
     "data": {
      "text/plain": [
       "138"
      ]
     },
     "execution_count": 58,
     "metadata": {},
     "output_type": "execute_result"
    }
   ],
   "source": [
    "# How many items?\n",
    "len(df)"
   ]
  },
  {
   "cell_type": "markdown",
   "metadata": {},
   "source": [
    "### Let's count the number of resources per place"
   ]
  },
  {
   "cell_type": "code",
   "execution_count": 59,
   "metadata": {},
   "outputs": [],
   "source": [
    "places_by_number = df.groupby(\"place\")[\"resource\"].count()"
   ]
  },
  {
   "cell_type": "code",
   "execution_count": 60,
   "metadata": {},
   "outputs": [
    {
     "data": {
      "text/plain": [
       "place\n",
       "http://sws.geonames.org/2635167/     14\n",
       "http://sws.geonames.org/2638360/      1\n",
       "http://sws.geonames.org/2921044/      1\n",
       "http://sws.geonames.org/3017382/      2\n",
       "http://sws.geonames.org/6252001/     10\n",
       "http://sws.geonames.org/6269131/    109\n",
       "Name: resource, dtype: int64"
      ]
     },
     "execution_count": 60,
     "metadata": {},
     "output_type": "execute_result"
    }
   ],
   "source": [
    "places_by_number"
   ]
  },
  {
   "cell_type": "code",
   "execution_count": 61,
   "metadata": {},
   "outputs": [],
   "source": [
    "### We can access the count of each place"
   ]
  },
  {
   "cell_type": "code",
   "execution_count": 62,
   "metadata": {},
   "outputs": [
    {
     "data": {
      "text/plain": [
       "109"
      ]
     },
     "execution_count": 62,
     "metadata": {},
     "output_type": "execute_result"
    }
   ],
   "source": [
    "places_by_number[['http://sws.geonames.org/6269131/']][0]"
   ]
  },
  {
   "cell_type": "markdown",
   "metadata": {},
   "source": [
    "### Create a chart to visualize the results\n",
    "This chart shows the number of resources by date."
   ]
  },
  {
   "cell_type": "code",
   "execution_count": 63,
   "metadata": {},
   "outputs": [
    {
     "data": {
      "image/png": "[encoded data removed]",
      "text/plain": [
       "<Figure size 1008x576 with 1 Axes>"
      ]
     },
     "metadata": {
      "needs_background": "light"
     },
     "output_type": "display_data"
    }
   ],
   "source": [
    "ax = df['date'].value_counts().plot(kind='bar',\n",
    "                                    figsize=(14,8),\n",
    "                                    title=\"Number of resources per date\")\n",
    "ax.set_xlabel(\"Dates\")\n",
    "ax.set_ylabel(\"Resources\")\n",
    "plt.show()"
   ]
  },
  {
   "cell_type": "markdown",
   "metadata": {},
   "source": [
    "### Let's group the items by year"
   ]
  },
  {
   "cell_type": "code",
   "execution_count": 64,
   "metadata": {},
   "outputs": [],
   "source": [
    "# First we create a new column in pandas with the year\n",
    "df['year'] = pd.DatetimeIndex(df['date']).year"
   ]
  },
  {
   "cell_type": "code",
   "execution_count": 65,
   "metadata": {},
   "outputs": [
    {
     "data": {
      "text/plain": [
       "0      2000\n",
       "1      2017\n",
       "2      2014\n",
       "3      2017\n",
       "4      2019\n",
       "       ... \n",
       "133    2018\n",
       "134    1951\n",
       "135    1969\n",
       "136    1981\n",
       "137    1969\n",
       "Name: year, Length: 138, dtype: int64"
      ]
     },
     "execution_count": 65,
     "metadata": {},
     "output_type": "execute_result"
    }
   ],
   "source": [
    "df['year']"
   ]
  },
  {
   "cell_type": "markdown",
   "metadata": {},
   "source": [
    "### Creating the chart by year"
   ]
  },
  {
   "cell_type": "code",
   "execution_count": 66,
   "metadata": {},
   "outputs": [
    {
     "data": {
      "image/png": "[encoded data removed]",
      "text/plain": [
       "<Figure size 1008x576 with 1 Axes>"
      ]
     },
     "metadata": {
      "needs_background": "light"
     },
     "output_type": "display_data"
    }
   ],
   "source": [
    "ax = df['year'].value_counts().plot(kind='bar',\n",
    "                                    figsize=(14,8),\n",
    "                                    title=\"Number of resources per year\")\n",
    "ax.set_xlabel(\"Dates\")\n",
    "ax.set_ylabel(\"Resources\")\n",
    "plt.show()"
   ]
  },
  {
   "cell_type": "markdown",
   "metadata": {},
   "source": [
    "## Exploring the places"
   ]
  },
  {
   "cell_type": "code",
   "execution_count": 67,
   "metadata": {},
   "outputs": [
    {
     "name": "stdout",
     "output_type": "stream",
     "text": [
      "http://sws.geonames.org/2635167/\n",
      "http://sws.geonames.org/2638360/\n",
      "http://sws.geonames.org/2921044/\n",
      "http://sws.geonames.org/3017382/\n",
      "http://sws.geonames.org/6252001/\n",
      "http://sws.geonames.org/6269131/\n"
     ]
    }
   ],
   "source": [
    "# Get unique values\n",
    "places = pd.unique(df['place']).tolist()\n",
    "strplaces = ''\n",
    "for a in sorted(places):\n",
    "    print(a)\n",
    "    strplaces = strplaces + ' \\\"' + a.replace(\"http://sws.geonames.org/\", \"\").replace(\"/\", \"\") + '\\\"'"
   ]
  },
  {
   "cell_type": "markdown",
   "metadata": {},
   "source": [
    "### Getting latitude and longitude from Wikidata"
   ]
  },
  {
   "cell_type": "code",
   "execution_count": 68,
   "metadata": {},
   "outputs": [
    {
     "name": "stdout",
     "output_type": "stream",
     "text": [
      "\n",
      "PREFIX bibo: <http://purl.org/ontology/bibo/>\n",
      "SELECT ?idgeonames ?lat ?lon ?x ?xLabel \n",
      "WHERE { \n",
      "  values ?idgeonames {  \"2635167\" \"2638360\" \"2921044\" \"3017382\" \"6252001\" \"6269131\" } \n",
      "  ?x wdt:P1566 ?idgeonames ; \n",
      "   p:P625 [\n",
      "     psv:P625 [\n",
      "       wikibase:geoLatitude ?lat ;\n",
      "       wikibase:geoLongitude ?lon ;\n",
      "       wikibase:geoGlobe ?globe ;\n",
      "     ];\n",
      "     ps:P625 ?coord\n",
      "   ]\n",
      "   SERVICE wikibase:label { bd:serviceParam wikibase:language \"[AUTO_LANGUAGE],en\". }\n",
      "}\n",
      "\n"
     ]
    }
   ],
   "source": [
    "url = 'https://query.wikidata.org/sparql'\n",
    "query = \"\"\"\n",
    "PREFIX bibo: <http://purl.org/ontology/bibo/>\n",
    "SELECT ?idgeonames ?lat ?lon ?x ?xLabel \n",
    "WHERE {{ \n",
    "  values ?idgeonames {{ {0} }} \n",
    "  ?x wdt:P1566 ?idgeonames ; \n",
    "   p:P625 [\n",
    "     psv:P625 [\n",
    "       wikibase:geoLatitude ?lat ;\n",
    "       wikibase:geoLongitude ?lon ;\n",
    "       wikibase:geoGlobe ?globe ;\n",
    "     ];\n",
    "     ps:P625 ?coord\n",
    "   ]\n",
    "   SERVICE wikibase:label {{ bd:serviceParam wikibase:language \"[AUTO_LANGUAGE],en\". }}\n",
    "}}\n",
    "\"\"\"\n",
    "\n",
    "query = query.format(strplaces)\n",
    "print(query)\n",
    "\n",
    "# use json as a result\n",
    "r = requests.get(url, params = {'format': 'json', 'query': query})\n",
    "geopoints = r.json()"
   ]
  },
  {
   "cell_type": "markdown",
   "metadata": {},
   "source": [
    "### Finally, we add the markers to the map"
   ]
  },
  {
   "cell_type": "code",
   "execution_count": 69,
   "metadata": {},
   "outputs": [
    {
     "name": "stdout",
     "output_type": "stream",
     "text": [
      "51.0 10.0\n",
      "38.895 -77.036666666667\n",
      "54.6 -2.0\n",
      "53.0 -1.0\n",
      "47.0 2.0\n",
      "57.0 -5.0\n"
     ]
    }
   ],
   "source": [
    "map = folium.Map(location=[0,0], zoom_start=1.5)\n",
    "\n",
    "for geo in geopoints['results']['bindings']:\n",
    "    idwikidata = geo['x']['value']\n",
    "    lat = geo['lat']['value']\n",
    "    lon = geo['lon']['value']\n",
    "    idgeonames = geo['idgeonames']['value']\n",
    "    label = geo['xLabel']['value']\n",
    "    print(lat, lon)\n",
    "    \n",
    "    # adding a text to the popup\n",
    "    count = places_by_number[['http://sws.geonames.org/' + idgeonames + '/']][0]\n",
    "    popup = str(count) + \" records published in <a hreh='\" + str(idwikidata) + \"'>\" + label + \"</a>\"\n",
    "    \n",
    "    folium.Marker([lat,lon], popup= popup).add_to(map)"
   ]
  },
  {
   "cell_type": "code",
   "execution_count": 70,
   "metadata": {},
   "outputs": [
    {
     "data": {
      "text/html": [
       "<div style=\"width:100%;\"><div style=\"position:relative;width:100%;height:0;padding-bottom:60%;\"><iframe src=\"about:blank\" style=\"position:absolute;width:100%;height:100%;left:0;top:0;border:none !important;\" data-html=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 onload=\"this.contentDocument.open();this.contentDocument.write(atob(this.getAttribute('data-html')));this.contentDocument.close();\" allowfullscreen webkitallowfullscreen mozallowfullscreen></iframe></div></div>"
      ],
      "text/plain": [
       "<folium.folium.Map at 0x7f15e7b882e8>"
      ]
     },
     "execution_count": 70,
     "metadata": {},
     "output_type": "execute_result"
    }
   ],
   "source": [
    "map"
   ]
  },
  {
   "cell_type": "code",
   "execution_count": null,
   "metadata": {},
   "outputs": [],
   "source": []
  },
  {
   "cell_type": "code",
   "execution_count": null,
   "metadata": {},
   "outputs": [],
   "source": []
  }
 ],
 "metadata": {
  "kernelspec": {
   "display_name": "Python 3",
   "language": "python",
   "name": "python3"
  },
  "language_info": {
   "codemirror_mode": {
    "name": "ipython",
    "version": 3
   },
   "file_extension": ".py",
   "mimetype": "text/x-python",
   "name": "python",
   "nbconvert_exporter": "python",
   "pygments_lexer": "ipython3",
   "version": "3.6.9"
  }
 },
 "nbformat": 4,
 "nbformat_minor": 2
}
